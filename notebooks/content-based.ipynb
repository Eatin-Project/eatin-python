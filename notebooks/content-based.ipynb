{
 "cells": [
  {
   "cell_type": "code",
   "execution_count": 14,
   "id": "00b2dda6-d7ac-44a5-b73f-1f20e5277ea5",
   "metadata": {},
   "outputs": [],
   "source": [
    "import pandas as pd\n",
    "import requests\n",
    "from bs4 import BeautifulSoup\n",
    "import random\n",
    "import pyarrow\n",
    "import fastparquet\n",
    "import psycopg2\n",
    "from sqlalchemy import create_engine\n",
    "import pandas as pd\n",
    "from sklearn.feature_extraction.text import TfidfVectorizer\n",
    "from sklearn.feature_extraction.text import CountVectorizer\n",
    "from sklearn.metrics.pairwise import cosine_similarity\n",
    "import ast\n",
    "import numpy as np\n",
    "pd.set_option('display.max_colwidth', None)"
   ]
  },
  {
   "cell_type": "code",
   "execution_count": 2,
   "id": "8a03a9aa-dd01-4945-9496-4845f6fa9e83",
   "metadata": {
    "tags": []
   },
   "outputs": [],
   "source": [
    "recipes = pd.read_parquet('../dataset/recipes.parquet.gzip')"
   ]
  },
  {
   "cell_type": "code",
   "execution_count": 12,
   "id": "747b2b55-c25c-4ff4-a1d3-6ec85bd32648",
   "metadata": {
    "tags": []
   },
   "outputs": [
    {
     "data": {
      "text/plain": [
       "15"
      ]
     },
     "execution_count": 12,
     "metadata": {},
     "output_type": "execute_result"
    }
   ],
   "source": [
    "recipes.vote_count.min()"
   ]
  },
  {
   "cell_type": "markdown",
   "id": "89095808-45d8-43aa-829d-9b1f04c5ea3c",
   "metadata": {
    "tags": []
   },
   "source": [
    "# tf idf"
   ]
  },
  {
   "cell_type": "code",
   "execution_count": 3,
   "id": "c8d21fdc-d3ac-4901-988a-1c7234f0c3c4",
   "metadata": {
    "tags": []
   },
   "outputs": [],
   "source": [
    "df = pd.read_parquet('../dataset/recipes.parquet.gzip')\n",
    "df = df[df['description'].notna()]\n",
    "df.reset_index(inplace=True)"
   ]
  },
  {
   "cell_type": "code",
   "execution_count": 4,
   "id": "0d9d38ea-1e06-460c-8b56-38f1a1f635c3",
   "metadata": {
    "tags": []
   },
   "outputs": [],
   "source": [
    "def process_text(text):\n",
    "    # replace multiple spaces with one\n",
    "    text = ' '.join(text.split())\n",
    "    # lowercase\n",
    "    text = text.lower()\n",
    " \n",
    "    return text\n",
    "\n",
    "df['description'] = df.apply(lambda x: process_text(x.description),axis=1)"
   ]
  },
  {
   "cell_type": "code",
   "execution_count": 5,
   "id": "9e9b6df2-6929-4dad-b534-db99ea21009d",
   "metadata": {
    "tags": []
   },
   "outputs": [],
   "source": [
    "tf_idf = TfidfVectorizer(stop_words='english')\n",
    " \n",
    "tf_idf_matrix = tf_idf.fit_transform(df['description']);"
   ]
  },
  {
   "cell_type": "code",
   "execution_count": 6,
   "id": "22feadc5-3db2-461f-8d86-37b4b3a8f744",
   "metadata": {
    "tags": []
   },
   "outputs": [],
   "source": [
    "cosine_similarity_matrix = cosine_similarity(tf_idf_matrix, tf_idf_matrix)"
   ]
  },
  {
   "cell_type": "code",
   "execution_count": null,
   "id": "0f5ec9ca-ee0b-4446-89b2-99b98b3e77b0",
   "metadata": {},
   "outputs": [],
   "source": []
  },
  {
   "cell_type": "code",
   "execution_count": 7,
   "id": "d14d01ae-1665-4c16-b97d-bad8be7eb483",
   "metadata": {
    "tags": []
   },
   "outputs": [],
   "source": [
    "def index_from_title(df,title):\n",
    "    return df[df['recipe_title']==title].index.values[0]\n",
    "\n",
    "\n",
    "# function that returns the title of the movie from its index\n",
    "def title_from_index(df,index):\n",
    "    return df[df.index==index].recipe_title.values[0]\n",
    "\n",
    "\n",
    "# generating recommendations for given title\n",
    "def recommendations(recipe_title, df,cosine_similarity_matrix,number_of_recommendations):\n",
    "    index = index_from_title(df,recipe_title)\n",
    "    similarity_scores = list(enumerate(cosine_similarity_matrix[index]))\n",
    "    similarity_scores_sorted = sorted(similarity_scores, key=lambda x: x[1], reverse=True)\n",
    "    recommendations_indices = [t[0] for t in similarity_scores_sorted[1:(number_of_recommendations+1)]]\n",
    "\n",
    "    return df['recipe_title'].iloc[recommendations_indices]"
   ]
  },
  {
   "cell_type": "code",
   "execution_count": 8,
   "id": "a0c16624-8314-4f02-b3c5-1f7b1a6271a4",
   "metadata": {
    "tags": []
   },
   "outputs": [
    {
     "data": {
      "text/plain": [
       "42                       Goan Kaju Curry Recipe (Spicy Goan Cashew Nut Curry)\n",
       "2197    कोल्हापुरी पालक अंडे की करी रेसिपी - Kolhapuri Palak Egg Curry Recipe\n",
       "1586                                                    Macaroni Chaat Recipe\n",
       "72                                          Vanilla Dutch Baby Pancake Recipe\n",
       "253                Chettinad Chicken Roast Recipe | Chicken Ghee Roast Recipe\n",
       "2551    Cauliflower Au Gratin Recipe - French Style Cauliflower & Cheese Bake\n",
       "6465                          Uttarakhand Mooli Thechua Recipe (Radish Salad)\n",
       "4356                                     Eggless Checker Board Cookies Recipe\n",
       "150                   Mangalorean Manoli Curry Recipe - Indian Gherkins Curry\n",
       "742                                  Parsi Salli Murgh Recipe - Salli Marghi \n",
       "2253                    Rajasthani Style Sukhe Gatte Capsicum Ki Sabzi Recipe\n",
       "55                               Dhaba Style Dal Fry Recipe | Mixed Dal Tadka\n",
       "3407                                                     Tomato Shorba Recipe\n",
       "Name: recipe_title, dtype: object"
      ]
     },
     "execution_count": 8,
     "metadata": {},
     "output_type": "execute_result"
    }
   ],
   "source": [
    "dfkaki = pd.read_parquet('../dataset/recipes-formatted.parquet.gzip')\n",
    "\n",
    "recommendations('Goan Sorak Curry Recipe', dfkaki, cosine_similarity_matrix, 13)"
   ]
  },
  {
   "cell_type": "code",
   "execution_count": null,
   "id": "1fd9205f-7df8-4930-aea4-7f831feaf9a6",
   "metadata": {},
   "outputs": [],
   "source": []
  },
  {
   "cell_type": "code",
   "execution_count": null,
   "id": "35244d60-3778-4d18-bb76-fc8247b72fc9",
   "metadata": {},
   "outputs": [],
   "source": [
    "df"
   ]
  },
  {
   "cell_type": "code",
   "execution_count": null,
   "id": "5512fc42-29e5-4bef-96cf-cdfc9c843d5a",
   "metadata": {},
   "outputs": [],
   "source": []
  },
  {
   "cell_type": "markdown",
   "id": "db3119a3-2345-475c-a8a4-59e9ebb8d9ba",
   "metadata": {
    "tags": []
   },
   "source": [
    "# vectorize"
   ]
  },
  {
   "cell_type": "code",
   "execution_count": null,
   "id": "932f4b40-1de7-4bf0-a754-7531e8e94e38",
   "metadata": {},
   "outputs": [],
   "source": []
  },
  {
   "cell_type": "code",
   "execution_count": 49,
   "id": "fdced048-d610-4a33-ac86-ea8f79c9a4bc",
   "metadata": {
    "tags": []
   },
   "outputs": [],
   "source": [
    "recipes = pd.read_parquet('../dataset/recipes-formatted.parquet.gzip')"
   ]
  },
  {
   "cell_type": "code",
   "execution_count": 50,
   "id": "b4d83a05-23da-4de5-ba90-2082277b3134",
   "metadata": {
    "tags": []
   },
   "outputs": [],
   "source": [
    "df = recipes"
   ]
  },
  {
   "cell_type": "code",
   "execution_count": 51,
   "id": "0024a3f5-8bff-4273-a859-44d3356611d5",
   "metadata": {
    "tags": []
   },
   "outputs": [],
   "source": [
    "def return_values(value):\n",
    "    values = []\n",
    "    if value is not None:\n",
    "        values.append(value.lower().replace(\" \",\"\"))\n",
    "\n",
    "    return ' '.join(values)\n",
    "\n",
    "def return_list_values(value):\n",
    "    values = []\n",
    "    if value is not None:\n",
    "        for item in value:\n",
    "            values.append(item.lower().replace(\" \",\"\"))\n",
    "\n",
    "    return ' '.join(values)\n",
    "\n",
    "df['record_health']=df.apply(lambda x: return_values(x.record_health),axis=1)\n",
    "df['cuisine']=df.apply(lambda x: return_values(x.cuisine),axis=1)\n",
    "df['course']=df.apply(lambda x: return_values(x.course),axis=1)\n",
    "df['diet']=df.apply(lambda x: return_values(x.diet),axis=1)\n",
    "df['prep_time']=df.apply(lambda x: return_values(x.prep_time),axis=1)\n",
    "df['cook_time']=df.apply(lambda x: return_values(x.cook_time),axis=1)\n",
    "df['category']=df.apply(lambda x: return_values(x.category),axis=1)\n",
    "df['tags']=df.apply(lambda x: return_list_values(x.tags),axis=1)\n"
   ]
  },
  {
   "cell_type": "code",
   "execution_count": 53,
   "id": "318c3f35-e413-4325-a5b2-15961b5ada45",
   "metadata": {
    "tags": []
   },
   "outputs": [],
   "source": [
    "w_record_health = 2\n",
    "w_course = 1\n",
    "w_cuisine = 5\n",
    "w_diet = 3\n",
    "w_prep_time = 6\n",
    "w_cook_time = 5\n",
    "w_category = 1\n",
    "w_tags = 3\n",
    "# function for merging features\n",
    " \n",
    "def concatenate_features(df_row):\n",
    "    return ' '.join([df_row['record_health']]*w_record_health) +' ' + \\\n",
    "            ' '.join([df_row['cuisine']]*w_cuisine)+' '+ \\\n",
    "            ' '.join([df_row['course']]*w_course)+' '+ \\\n",
    "            ' '.join([df_row['diet']]*w_diet)+' '+ \\\n",
    "            ' '.join([df_row['prep_time']]*w_prep_time)+' '+ \\\n",
    "            ' '.join([df_row['cook_time']]*w_cook_time)+' '+ \\\n",
    "            ' '.join([df_row['category']]*w_category)+' '+ \\\n",
    "            ' '.join([df_row['tags']]*w_tags)\n"
   ]
  },
  {
   "cell_type": "code",
   "execution_count": 54,
   "id": "b81fbf8d-12d1-495d-939c-2a14cbfa4d42",
   "metadata": {
    "tags": []
   },
   "outputs": [],
   "source": [
    "df['features'] = df.apply(concatenate_features,axis=1)"
   ]
  },
  {
   "cell_type": "code",
   "execution_count": 55,
   "id": "383308be-7162-4a70-afab-5df244216c30",
   "metadata": {
    "tags": []
   },
   "outputs": [],
   "source": [
    "# pre-processing text of features\n",
    "\n",
    "def process_text(text):\n",
    "    # replace multiple spaces with one\n",
    "    text = ' '.join(text.split())\n",
    "    # lowercase\n",
    "    text=text.lower()\n",
    "\n",
    "    return text\n",
    "\n",
    "df['features'] = df.apply(lambda x: process_text(x.features),axis=1)\n"
   ]
  },
  {
   "cell_type": "code",
   "execution_count": 56,
   "id": "3854eb96-3947-4389-81da-71327838c530",
   "metadata": {
    "tags": []
   },
   "outputs": [],
   "source": [
    "vect = CountVectorizer(stop_words='english')\n",
    "\n",
    "vect_matrix = vect.fit_transform(df['features'])\n",
    "\n",
    "cosine_similarity_matrix_count_based = cosine_similarity(vect_matrix, vect_matrix)"
   ]
  },
  {
   "cell_type": "code",
   "execution_count": 57,
   "id": "d220bdca-f8dd-4323-ac0b-a07b71282dcd",
   "metadata": {
    "tags": []
   },
   "outputs": [
    {
     "data": {
      "text/plain": [
       "2500                           Goan Batata Recheado Recipe With Carrots & Beans\n",
       "636                                                 Goan Prawns Vindaloo Recipe\n",
       "2479                                                    Goan Gawar Bhaji Recipe\n",
       "151                                                 Goan Vegetable Curry Recipe\n",
       "6743           गोअन एग ड्राप करी रेसिपी - Goan Egg Drop Curry (Recipe In Hindi)\n",
       "458                    Mushroom Caldine Recipe | Vegetarian Goan Mushroom Curry\n",
       "5576            Doodanche Fov Recipe (Goan Style Milk Beaten Rice/Poha In Milk)\n",
       "6537                     दही वाली भिन्डी रेसिपी - Dahi Bhindi (Recipe In Hindi)\n",
       "6235                                                       Prawn Balchao Recipe\n",
       "6279    The Goan Kelyachyo Fodi Recipe (Spicy & Crispy Pan Fried Banana Recipe)\n",
       "5376                         Goan Style Dhayanche Fov Recipe (Curd Poha Recipe)\n",
       "6653     Goan Style Sando Recipe (Steamed Rice Cakes Filled With Sweet Coconut)\n",
       "7943                                        Goan Style Mushroom Shagoti Recipe \n",
       "Name: recipe_title, dtype: object"
      ]
     },
     "execution_count": 57,
     "metadata": {},
     "output_type": "execute_result"
    }
   ],
   "source": [
    "recommendations('Goan Sorak Curry Recipe', dfkaki, cosine_similarity_matrix_count_based, 13)"
   ]
  },
  {
   "cell_type": "code",
   "execution_count": null,
   "id": "a9260143-ddb6-4e81-b1fb-2747302b4812",
   "metadata": {},
   "outputs": [],
   "source": []
  },
  {
   "cell_type": "markdown",
   "id": "48dcd306-6e1c-49f5-abd1-5283664f5403",
   "metadata": {
    "tags": []
   },
   "source": [
    "# load model"
   ]
  },
  {
   "cell_type": "code",
   "execution_count": 13,
   "id": "711c68b0-a80a-4c27-8d15-a5e6e603fe9f",
   "metadata": {
    "tags": []
   },
   "outputs": [
    {
     "data": {
      "text/plain": [
       "array([[1.        , 0.0337129 , 0.05395738, ..., 0.01681173, 0.01764909,\n",
       "        0.01355815],\n",
       "       [0.0337129 , 1.        , 0.02647728, ..., 0.02879546, 0.00495894,\n",
       "        0.03535348],\n",
       "       [0.05395738, 0.02647728, 1.        , ..., 0.03452351, 0.01621537,\n",
       "        0.0127036 ],\n",
       "       ...,\n",
       "       [0.01681173, 0.02879546, 0.03452351, ..., 1.        , 0.00800622,\n",
       "        0.06164382],\n",
       "       [0.01764909, 0.00495894, 0.01621537, ..., 0.00800622, 1.        ,\n",
       "        0.00763376],\n",
       "       [0.01355815, 0.03535348, 0.0127036 , ..., 0.06164382, 0.00763376,\n",
       "        1.        ]])"
      ]
     },
     "execution_count": 13,
     "metadata": {},
     "output_type": "execute_result"
    }
   ],
   "source": [
    "cosine_similarity_matrix"
   ]
  },
  {
   "cell_type": "code",
   "execution_count": 19,
   "id": "f826ecfb-7a04-47b9-89e3-a99c64ee9b78",
   "metadata": {
    "tags": []
   },
   "outputs": [],
   "source": [
    "from joblib import dump, load\n",
    "\n",
    "def save_model(model, filename):\n",
    "    joblib.dump(model, filename)\n",
    "\n",
    "def load_model(filename):\n",
    "    model = joblib.load(filename)\n",
    "    return model\n"
   ]
  },
  {
   "cell_type": "code",
   "execution_count": 23,
   "id": "9246e915-3ab9-4e67-8611-8548db18fb20",
   "metadata": {
    "tags": []
   },
   "outputs": [
    {
     "name": "stdout",
     "output_type": "stream",
     "text": [
      "CPU times: user 23.9 ms, sys: 245 ms, total: 269 ms\n",
      "Wall time: 563 ms\n"
     ]
    }
   ],
   "source": [
    "%%time\n",
    "save_model(cosine_similarity_matrix, 'tf_idf.joblib')"
   ]
  },
  {
   "cell_type": "code",
   "execution_count": 22,
   "id": "3c961087-7511-468e-a5ac-7b0c22f3f1ed",
   "metadata": {
    "tags": []
   },
   "outputs": [
    {
     "ename": "FileNotFoundError",
     "evalue": "[Errno 2] No such file or directory: 'tf_idf.joblib'",
     "output_type": "error",
     "traceback": [
      "\u001b[0;31m---------------------------------------------------------------------------\u001b[0m",
      "\u001b[0;31mFileNotFoundError\u001b[0m                         Traceback (most recent call last)",
      "File \u001b[0;32m<timed eval>:1\u001b[0m\n",
      "Cell \u001b[0;32mIn[19], line 7\u001b[0m, in \u001b[0;36mload_model\u001b[0;34m(filename)\u001b[0m\n\u001b[1;32m      6\u001b[0m \u001b[38;5;28;01mdef\u001b[39;00m \u001b[38;5;21mload_model\u001b[39m(filename):\n\u001b[0;32m----> 7\u001b[0m     model \u001b[38;5;241m=\u001b[39m \u001b[43mload\u001b[49m\u001b[43m(\u001b[49m\u001b[43mfilename\u001b[49m\u001b[43m)\u001b[49m\n\u001b[1;32m      8\u001b[0m     \u001b[38;5;28;01mreturn\u001b[39;00m model\n",
      "File \u001b[0;32m~/eatin/eatin-python/venv/lib/python3.10/site-packages/joblib/numpy_pickle.py:650\u001b[0m, in \u001b[0;36mload\u001b[0;34m(filename, mmap_mode)\u001b[0m\n\u001b[1;32m    648\u001b[0m         obj \u001b[38;5;241m=\u001b[39m _unpickle(fobj)\n\u001b[1;32m    649\u001b[0m \u001b[38;5;28;01melse\u001b[39;00m:\n\u001b[0;32m--> 650\u001b[0m     \u001b[38;5;28;01mwith\u001b[39;00m \u001b[38;5;28;43mopen\u001b[39;49m\u001b[43m(\u001b[49m\u001b[43mfilename\u001b[49m\u001b[43m,\u001b[49m\u001b[43m \u001b[49m\u001b[38;5;124;43m'\u001b[39;49m\u001b[38;5;124;43mrb\u001b[39;49m\u001b[38;5;124;43m'\u001b[39;49m\u001b[43m)\u001b[49m \u001b[38;5;28;01mas\u001b[39;00m f:\n\u001b[1;32m    651\u001b[0m         \u001b[38;5;28;01mwith\u001b[39;00m _read_fileobject(f, filename, mmap_mode) \u001b[38;5;28;01mas\u001b[39;00m fobj:\n\u001b[1;32m    652\u001b[0m             \u001b[38;5;28;01mif\u001b[39;00m \u001b[38;5;28misinstance\u001b[39m(fobj, \u001b[38;5;28mstr\u001b[39m):\n\u001b[1;32m    653\u001b[0m                 \u001b[38;5;66;03m# if the returned file object is a string, this means we\u001b[39;00m\n\u001b[1;32m    654\u001b[0m                 \u001b[38;5;66;03m# try to load a pickle file generated with an version of\u001b[39;00m\n\u001b[1;32m    655\u001b[0m                 \u001b[38;5;66;03m# Joblib so we load it with joblib compatibility function.\u001b[39;00m\n",
      "\u001b[0;31mFileNotFoundError\u001b[0m: [Errno 2] No such file or directory: 'tf_idf.joblib'"
     ]
    }
   ],
   "source": [
    "%%time\n",
    "load_model('tf_idf.joblib')"
   ]
  },
  {
   "cell_type": "code",
   "execution_count": 18,
   "id": "60afcafc-06ee-4047-8def-cefdf5f46359",
   "metadata": {
    "tags": []
   },
   "outputs": [
    {
     "data": {
      "text/plain": [
       "array([[1.        , 0.0337129 , 0.05395738, ..., 0.01681173, 0.01764909,\n",
       "        0.01355815],\n",
       "       [0.0337129 , 1.        , 0.02647728, ..., 0.02879546, 0.00495894,\n",
       "        0.03535348],\n",
       "       [0.05395738, 0.02647728, 1.        , ..., 0.03452351, 0.01621537,\n",
       "        0.0127036 ],\n",
       "       ...,\n",
       "       [0.01681173, 0.02879546, 0.03452351, ..., 1.        , 0.00800622,\n",
       "        0.06164382],\n",
       "       [0.01764909, 0.00495894, 0.01621537, ..., 0.00800622, 1.        ,\n",
       "        0.00763376],\n",
       "       [0.01355815, 0.03535348, 0.0127036 , ..., 0.06164382, 0.00763376,\n",
       "        1.        ]])"
      ]
     },
     "execution_count": 18,
     "metadata": {},
     "output_type": "execute_result"
    }
   ],
   "source": [
    "new_data"
   ]
  },
  {
   "cell_type": "code",
   "execution_count": null,
   "id": "7ae5ed97-36c4-4c06-a71b-29330d3b561b",
   "metadata": {},
   "outputs": [],
   "source": []
  },
  {
   "cell_type": "code",
   "execution_count": 10,
   "id": "03909aa2-ac7d-4f9a-9820-e4472c20aee5",
   "metadata": {
    "tags": []
   },
   "outputs": [
    {
     "ename": "ValueError",
     "evalue": "Per-column arrays must each be 1-dimensional",
     "output_type": "error",
     "traceback": [
      "\u001b[0;31m---------------------------------------------------------------------------\u001b[0m",
      "\u001b[0;31mValueError\u001b[0m                                Traceback (most recent call last)",
      "Cell \u001b[0;32mIn[10], line 1\u001b[0m\n\u001b[0;32m----> 1\u001b[0m df \u001b[38;5;241m=\u001b[39m \u001b[43mpd\u001b[49m\u001b[38;5;241;43m.\u001b[39;49m\u001b[43mDataFrame\u001b[49m\u001b[43m(\u001b[49m\u001b[43m{\u001b[49m\u001b[38;5;124;43m'\u001b[39;49m\u001b[38;5;124;43mmatrix\u001b[39;49m\u001b[38;5;124;43m'\u001b[39;49m\u001b[43m:\u001b[49m\u001b[43m \u001b[49m\u001b[43mcosine_similarity_matrix\u001b[49m\u001b[43m}\u001b[49m\u001b[43m)\u001b[49m\n\u001b[1;32m      2\u001b[0m df\u001b[38;5;241m.\u001b[39mto_parquet(\u001b[38;5;124m'\u001b[39m\u001b[38;5;124m../models/tf-idf.parquet.gzip\u001b[39m\u001b[38;5;124m'\u001b[39m, compression\u001b[38;5;241m=\u001b[39m\u001b[38;5;124m'\u001b[39m\u001b[38;5;124mgzip\u001b[39m\u001b[38;5;124m'\u001b[39m)\n",
      "File \u001b[0;32m~/eatin/eatin-python/venv/lib/python3.10/site-packages/pandas/core/frame.py:664\u001b[0m, in \u001b[0;36mDataFrame.__init__\u001b[0;34m(self, data, index, columns, dtype, copy)\u001b[0m\n\u001b[1;32m    658\u001b[0m     mgr \u001b[38;5;241m=\u001b[39m \u001b[38;5;28mself\u001b[39m\u001b[38;5;241m.\u001b[39m_init_mgr(\n\u001b[1;32m    659\u001b[0m         data, axes\u001b[38;5;241m=\u001b[39m{\u001b[38;5;124m\"\u001b[39m\u001b[38;5;124mindex\u001b[39m\u001b[38;5;124m\"\u001b[39m: index, \u001b[38;5;124m\"\u001b[39m\u001b[38;5;124mcolumns\u001b[39m\u001b[38;5;124m\"\u001b[39m: columns}, dtype\u001b[38;5;241m=\u001b[39mdtype, copy\u001b[38;5;241m=\u001b[39mcopy\n\u001b[1;32m    660\u001b[0m     )\n\u001b[1;32m    662\u001b[0m \u001b[38;5;28;01melif\u001b[39;00m \u001b[38;5;28misinstance\u001b[39m(data, \u001b[38;5;28mdict\u001b[39m):\n\u001b[1;32m    663\u001b[0m     \u001b[38;5;66;03m# GH#38939 de facto copy defaults to False only in non-dict cases\u001b[39;00m\n\u001b[0;32m--> 664\u001b[0m     mgr \u001b[38;5;241m=\u001b[39m \u001b[43mdict_to_mgr\u001b[49m\u001b[43m(\u001b[49m\u001b[43mdata\u001b[49m\u001b[43m,\u001b[49m\u001b[43m \u001b[49m\u001b[43mindex\u001b[49m\u001b[43m,\u001b[49m\u001b[43m \u001b[49m\u001b[43mcolumns\u001b[49m\u001b[43m,\u001b[49m\u001b[43m \u001b[49m\u001b[43mdtype\u001b[49m\u001b[38;5;241;43m=\u001b[39;49m\u001b[43mdtype\u001b[49m\u001b[43m,\u001b[49m\u001b[43m \u001b[49m\u001b[43mcopy\u001b[49m\u001b[38;5;241;43m=\u001b[39;49m\u001b[43mcopy\u001b[49m\u001b[43m,\u001b[49m\u001b[43m \u001b[49m\u001b[43mtyp\u001b[49m\u001b[38;5;241;43m=\u001b[39;49m\u001b[43mmanager\u001b[49m\u001b[43m)\u001b[49m\n\u001b[1;32m    665\u001b[0m \u001b[38;5;28;01melif\u001b[39;00m \u001b[38;5;28misinstance\u001b[39m(data, ma\u001b[38;5;241m.\u001b[39mMaskedArray):\n\u001b[1;32m    666\u001b[0m     \u001b[38;5;28;01mimport\u001b[39;00m \u001b[38;5;21;01mnumpy\u001b[39;00m\u001b[38;5;21;01m.\u001b[39;00m\u001b[38;5;21;01mma\u001b[39;00m\u001b[38;5;21;01m.\u001b[39;00m\u001b[38;5;21;01mmrecords\u001b[39;00m \u001b[38;5;28;01mas\u001b[39;00m \u001b[38;5;21;01mmrecords\u001b[39;00m\n",
      "File \u001b[0;32m~/eatin/eatin-python/venv/lib/python3.10/site-packages/pandas/core/internals/construction.py:493\u001b[0m, in \u001b[0;36mdict_to_mgr\u001b[0;34m(data, index, columns, dtype, typ, copy)\u001b[0m\n\u001b[1;32m    489\u001b[0m     \u001b[38;5;28;01melse\u001b[39;00m:\n\u001b[1;32m    490\u001b[0m         \u001b[38;5;66;03m# dtype check to exclude e.g. range objects, scalars\u001b[39;00m\n\u001b[1;32m    491\u001b[0m         arrays \u001b[38;5;241m=\u001b[39m [x\u001b[38;5;241m.\u001b[39mcopy() \u001b[38;5;28;01mif\u001b[39;00m \u001b[38;5;28mhasattr\u001b[39m(x, \u001b[38;5;124m\"\u001b[39m\u001b[38;5;124mdtype\u001b[39m\u001b[38;5;124m\"\u001b[39m) \u001b[38;5;28;01melse\u001b[39;00m x \u001b[38;5;28;01mfor\u001b[39;00m x \u001b[38;5;129;01min\u001b[39;00m arrays]\n\u001b[0;32m--> 493\u001b[0m \u001b[38;5;28;01mreturn\u001b[39;00m \u001b[43marrays_to_mgr\u001b[49m\u001b[43m(\u001b[49m\u001b[43marrays\u001b[49m\u001b[43m,\u001b[49m\u001b[43m \u001b[49m\u001b[43mcolumns\u001b[49m\u001b[43m,\u001b[49m\u001b[43m \u001b[49m\u001b[43mindex\u001b[49m\u001b[43m,\u001b[49m\u001b[43m \u001b[49m\u001b[43mdtype\u001b[49m\u001b[38;5;241;43m=\u001b[39;49m\u001b[43mdtype\u001b[49m\u001b[43m,\u001b[49m\u001b[43m \u001b[49m\u001b[43mtyp\u001b[49m\u001b[38;5;241;43m=\u001b[39;49m\u001b[43mtyp\u001b[49m\u001b[43m,\u001b[49m\u001b[43m \u001b[49m\u001b[43mconsolidate\u001b[49m\u001b[38;5;241;43m=\u001b[39;49m\u001b[43mcopy\u001b[49m\u001b[43m)\u001b[49m\n",
      "File \u001b[0;32m~/eatin/eatin-python/venv/lib/python3.10/site-packages/pandas/core/internals/construction.py:118\u001b[0m, in \u001b[0;36marrays_to_mgr\u001b[0;34m(arrays, columns, index, dtype, verify_integrity, typ, consolidate)\u001b[0m\n\u001b[1;32m    115\u001b[0m \u001b[38;5;28;01mif\u001b[39;00m verify_integrity:\n\u001b[1;32m    116\u001b[0m     \u001b[38;5;66;03m# figure out the index, if necessary\u001b[39;00m\n\u001b[1;32m    117\u001b[0m     \u001b[38;5;28;01mif\u001b[39;00m index \u001b[38;5;129;01mis\u001b[39;00m \u001b[38;5;28;01mNone\u001b[39;00m:\n\u001b[0;32m--> 118\u001b[0m         index \u001b[38;5;241m=\u001b[39m \u001b[43m_extract_index\u001b[49m\u001b[43m(\u001b[49m\u001b[43marrays\u001b[49m\u001b[43m)\u001b[49m\n\u001b[1;32m    119\u001b[0m     \u001b[38;5;28;01melse\u001b[39;00m:\n\u001b[1;32m    120\u001b[0m         index \u001b[38;5;241m=\u001b[39m ensure_index(index)\n",
      "File \u001b[0;32m~/eatin/eatin-python/venv/lib/python3.10/site-packages/pandas/core/internals/construction.py:653\u001b[0m, in \u001b[0;36m_extract_index\u001b[0;34m(data)\u001b[0m\n\u001b[1;32m    651\u001b[0m         raw_lengths\u001b[38;5;241m.\u001b[39mappend(\u001b[38;5;28mlen\u001b[39m(val))\n\u001b[1;32m    652\u001b[0m     \u001b[38;5;28;01melif\u001b[39;00m \u001b[38;5;28misinstance\u001b[39m(val, np\u001b[38;5;241m.\u001b[39mndarray) \u001b[38;5;129;01mand\u001b[39;00m val\u001b[38;5;241m.\u001b[39mndim \u001b[38;5;241m>\u001b[39m \u001b[38;5;241m1\u001b[39m:\n\u001b[0;32m--> 653\u001b[0m         \u001b[38;5;28;01mraise\u001b[39;00m \u001b[38;5;167;01mValueError\u001b[39;00m(\u001b[38;5;124m\"\u001b[39m\u001b[38;5;124mPer-column arrays must each be 1-dimensional\u001b[39m\u001b[38;5;124m\"\u001b[39m)\n\u001b[1;32m    655\u001b[0m \u001b[38;5;28;01mif\u001b[39;00m \u001b[38;5;129;01mnot\u001b[39;00m indexes \u001b[38;5;129;01mand\u001b[39;00m \u001b[38;5;129;01mnot\u001b[39;00m raw_lengths:\n\u001b[1;32m    656\u001b[0m     \u001b[38;5;28;01mraise\u001b[39;00m \u001b[38;5;167;01mValueError\u001b[39;00m(\u001b[38;5;124m\"\u001b[39m\u001b[38;5;124mIf using all scalar values, you must pass an index\u001b[39m\u001b[38;5;124m\"\u001b[39m)\n",
      "\u001b[0;31mValueError\u001b[0m: Per-column arrays must each be 1-dimensional"
     ]
    }
   ],
   "source": [
    "df = pd.DataFrame({'matrix': cosine_similarity_matrix})\n",
    "df.to_parquet('../models/tf-idf.parquet.gzip', compression='gzip')"
   ]
  },
  {
   "cell_type": "code",
   "execution_count": null,
   "id": "240d8691-3db3-4212-8cc1-2d413bf7c655",
   "metadata": {},
   "outputs": [],
   "source": []
  },
  {
   "cell_type": "code",
   "execution_count": null,
   "id": "9678242f-a336-4d7b-a257-2298532b47df",
   "metadata": {},
   "outputs": [],
   "source": []
  },
  {
   "cell_type": "code",
   "execution_count": null,
   "id": "3bad2e0d-41ec-42aa-9aac-a4b3d2ce38ee",
   "metadata": {},
   "outputs": [],
   "source": []
  },
  {
   "cell_type": "code",
   "execution_count": null,
   "id": "97bf6b5f-78dc-48a4-a01a-99c08e08157b",
   "metadata": {},
   "outputs": [],
   "source": []
  }
 ],
 "metadata": {
  "kernelspec": {
   "display_name": "Python 3 (ipykernel)",
   "language": "python",
   "name": "python3"
  },
  "language_info": {
   "codemirror_mode": {
    "name": "ipython",
    "version": 3
   },
   "file_extension": ".py",
   "mimetype": "text/x-python",
   "name": "python",
   "nbconvert_exporter": "python",
   "pygments_lexer": "ipython3",
   "version": "3.10.10"
  }
 },
 "nbformat": 4,
 "nbformat_minor": 5
}
