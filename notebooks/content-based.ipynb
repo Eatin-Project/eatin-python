{
 "cells": [
  {
   "cell_type": "code",
   "execution_count": 9,
   "id": "00b2dda6-d7ac-44a5-b73f-1f20e5277ea5",
   "metadata": {},
   "outputs": [],
   "source": [
    "import pandas as pd\n",
    "import requests\n",
    "from bs4 import BeautifulSoup\n",
    "import random\n",
    "import pyarrow\n",
    "import fastparquet\n",
    "import psycopg2\n",
    "from sqlalchemy import create_engine\n",
    "import pandas as pd\n",
    "from sklearn.feature_extraction.text import TfidfVectorizer\n",
    "from sklearn.feature_extraction.text import CountVectorizer\n",
    "from sklearn.metrics.pairwise import cosine_similarity\n",
    "import ast\n",
    "import numpy as np\n",
    "import joblib\n",
    "pd.set_option('display.max_colwidth', None)"
   ]
  },
  {
   "cell_type": "code",
   "execution_count": 2,
   "id": "8a03a9aa-dd01-4945-9496-4845f6fa9e83",
   "metadata": {
    "tags": []
   },
   "outputs": [],
   "source": [
    "recipes = pd.read_parquet('../dataset/recipes.parquet.gzip')"
   ]
  },
  {
   "cell_type": "code",
   "execution_count": 12,
   "id": "747b2b55-c25c-4ff4-a1d3-6ec85bd32648",
   "metadata": {
    "tags": []
   },
   "outputs": [
    {
     "data": {
      "text/plain": [
       "15"
      ]
     },
     "execution_count": 12,
     "metadata": {},
     "output_type": "execute_result"
    }
   ],
   "source": [
    "recipes.vote_count.min()"
   ]
  },
  {
   "cell_type": "markdown",
   "id": "89095808-45d8-43aa-829d-9b1f04c5ea3c",
   "metadata": {
    "tags": []
   },
   "source": [
    "# tf idf"
   ]
  },
  {
   "cell_type": "code",
   "execution_count": 3,
   "id": "c8d21fdc-d3ac-4901-988a-1c7234f0c3c4",
   "metadata": {
    "tags": []
   },
   "outputs": [],
   "source": [
    "df = pd.read_parquet('../dataset/recipes.parquet.gzip')\n",
    "df = df[df['description'].notna()]\n",
    "df.reset_index(inplace=True)"
   ]
  },
  {
   "cell_type": "code",
   "execution_count": 4,
   "id": "0d9d38ea-1e06-460c-8b56-38f1a1f635c3",
   "metadata": {
    "tags": []
   },
   "outputs": [],
   "source": [
    "def process_text(text):\n",
    "    # replace multiple spaces with one\n",
    "    text = ' '.join(text.split())\n",
    "    # lowercase\n",
    "    text = text.lower()\n",
    " \n",
    "    return text\n",
    "\n",
    "df['description'] = df.apply(lambda x: process_text(x.description),axis=1)"
   ]
  },
  {
   "cell_type": "code",
   "execution_count": 5,
   "id": "9e9b6df2-6929-4dad-b534-db99ea21009d",
   "metadata": {
    "tags": []
   },
   "outputs": [],
   "source": [
    "tf_idf = TfidfVectorizer(stop_words='english')\n",
    " \n",
    "tf_idf_matrix = tf_idf.fit_transform(df['description']);"
   ]
  },
  {
   "cell_type": "code",
   "execution_count": 6,
   "id": "22feadc5-3db2-461f-8d86-37b4b3a8f744",
   "metadata": {
    "tags": []
   },
   "outputs": [],
   "source": [
    "cosine_similarity_matrix = cosine_similarity(tf_idf_matrix, tf_idf_matrix)"
   ]
  },
  {
   "cell_type": "code",
   "execution_count": null,
   "id": "0f5ec9ca-ee0b-4446-89b2-99b98b3e77b0",
   "metadata": {},
   "outputs": [],
   "source": []
  },
  {
   "cell_type": "code",
   "execution_count": 7,
   "id": "d14d01ae-1665-4c16-b97d-bad8be7eb483",
   "metadata": {
    "tags": []
   },
   "outputs": [],
   "source": [
    "def index_from_title(df,title):\n",
    "    return df[df['recipe_title']==title].index.values[0]\n",
    "\n",
    "\n",
    "# function that returns the title of the movie from its index\n",
    "def title_from_index(df,index):\n",
    "    return df[df.index==index].recipe_title.values[0]\n",
    "\n",
    "\n",
    "# generating recommendations for given title\n",
    "def recommendations(recipe_title, df,cosine_similarity_matrix,number_of_recommendations):\n",
    "    index = index_from_title(df,recipe_title)\n",
    "    similarity_scores = list(enumerate(cosine_similarity_matrix[index]))\n",
    "    similarity_scores_sorted = sorted(similarity_scores, key=lambda x: x[1], reverse=True)\n",
    "    recommendations_indices = [t[0] for t in similarity_scores_sorted[1:(number_of_recommendations+1)]]\n",
    "\n",
    "    return df['recipe_title'].iloc[recommendations_indices]"
   ]
  },
  {
   "cell_type": "code",
   "execution_count": 8,
   "id": "a0c16624-8314-4f02-b3c5-1f7b1a6271a4",
   "metadata": {
    "tags": []
   },
   "outputs": [
    {
     "data": {
      "text/plain": [
       "42                       Goan Kaju Curry Recipe (Spicy Goan Cashew Nut Curry)\n",
       "2197    कोल्हापुरी पालक अंडे की करी रेसिपी - Kolhapuri Palak Egg Curry Recipe\n",
       "1586                                                    Macaroni Chaat Recipe\n",
       "72                                          Vanilla Dutch Baby Pancake Recipe\n",
       "253                Chettinad Chicken Roast Recipe | Chicken Ghee Roast Recipe\n",
       "2551    Cauliflower Au Gratin Recipe - French Style Cauliflower & Cheese Bake\n",
       "6465                          Uttarakhand Mooli Thechua Recipe (Radish Salad)\n",
       "4356                                     Eggless Checker Board Cookies Recipe\n",
       "150                   Mangalorean Manoli Curry Recipe - Indian Gherkins Curry\n",
       "742                                  Parsi Salli Murgh Recipe - Salli Marghi \n",
       "2253                    Rajasthani Style Sukhe Gatte Capsicum Ki Sabzi Recipe\n",
       "55                               Dhaba Style Dal Fry Recipe | Mixed Dal Tadka\n",
       "3407                                                     Tomato Shorba Recipe\n",
       "Name: recipe_title, dtype: object"
      ]
     },
     "execution_count": 8,
     "metadata": {},
     "output_type": "execute_result"
    }
   ],
   "source": [
    "dfkaki = pd.read_parquet('../dataset/recipes-formatted.parquet.gzip')\n",
    "\n",
    "recommendations('Goan Sorak Curry Recipe', dfkaki, cosine_similarity_matrix, 13)"
   ]
  },
  {
   "cell_type": "code",
   "execution_count": null,
   "id": "1fd9205f-7df8-4930-aea4-7f831feaf9a6",
   "metadata": {},
   "outputs": [],
   "source": []
  },
  {
   "cell_type": "code",
   "execution_count": null,
   "id": "35244d60-3778-4d18-bb76-fc8247b72fc9",
   "metadata": {},
   "outputs": [],
   "source": [
    "df"
   ]
  },
  {
   "cell_type": "code",
   "execution_count": null,
   "id": "5512fc42-29e5-4bef-96cf-cdfc9c843d5a",
   "metadata": {},
   "outputs": [],
   "source": []
  },
  {
   "cell_type": "markdown",
   "id": "db3119a3-2345-475c-a8a4-59e9ebb8d9ba",
   "metadata": {
    "tags": []
   },
   "source": [
    "# vectorize"
   ]
  },
  {
   "cell_type": "code",
   "execution_count": null,
   "id": "932f4b40-1de7-4bf0-a754-7531e8e94e38",
   "metadata": {},
   "outputs": [],
   "source": []
  },
  {
   "cell_type": "code",
   "execution_count": 35,
   "id": "fdced048-d610-4a33-ac86-ea8f79c9a4bc",
   "metadata": {
    "tags": []
   },
   "outputs": [],
   "source": [
    "recipes = pd.read_parquet('../dataset/recipes.parquet.gzip')"
   ]
  },
  {
   "cell_type": "code",
   "execution_count": 36,
   "id": "b4d83a05-23da-4de5-ba90-2082277b3134",
   "metadata": {
    "tags": []
   },
   "outputs": [],
   "source": [
    "df = recipes"
   ]
  },
  {
   "cell_type": "code",
   "execution_count": 38,
   "id": "0024a3f5-8bff-4273-a859-44d3356611d5",
   "metadata": {
    "tags": []
   },
   "outputs": [],
   "source": [
    "def return_values(value):\n",
    "    values = []\n",
    "    if value is not None:\n",
    "        values.append(value.lower().replace(\" \",\"\"))\n",
    "\n",
    "    return ' '.join(values)\n",
    "\n",
    "def return_list_values(value):\n",
    "    values = []\n",
    "    if value is not None:\n",
    "        for item in value:\n",
    "            values.append(item.lower().replace(\" \",\"\"))\n",
    "\n",
    "    return ' '.join(values)\n",
    "\n",
    "df['record_health']=df.apply(lambda x: return_values(x.record_health),axis=1)\n",
    "df['cuisine']=df.apply(lambda x: return_values(x.cuisine),axis=1)\n",
    "df['course']=df.apply(lambda x: return_values(x.course),axis=1)\n",
    "df['diet']=df.apply(lambda x: return_values(x.diet),axis=1)\n",
    "df['category']=df.apply(lambda x: return_values(x.category),axis=1)\n",
    "df['tags']=df.apply(lambda x: return_list_values(x.tags),axis=1)\n"
   ]
  },
  {
   "cell_type": "code",
   "execution_count": 43,
   "id": "318c3f35-e413-4325-a5b2-15961b5ada45",
   "metadata": {
    "tags": []
   },
   "outputs": [],
   "source": [
    "w_record_health = 2\n",
    "w_course = 1\n",
    "w_cuisine = 5\n",
    "w_diet = 3\n",
    "w_prep_time = 6\n",
    "w_cook_time = 5\n",
    "w_category = 1\n",
    "w_tags = 3\n",
    "# function for merging features\n",
    " \n",
    "def concatenate_features(df_row):\n",
    "    return ' '.join([df_row['record_health']]*w_record_health) +' ' + \\\n",
    "            ' '.join([df_row['cuisine']]*w_cuisine)+' '+ \\\n",
    "            ' '.join([df_row['course']]*w_course)+' '+ \\\n",
    "            ' '.join([df_row['diet']]*w_diet)+' '+ \\\n",
    "            ' '.join(str([df_row['prep_time']])*w_prep_time)+' '+ \\\n",
    "            ' '.join(str([df_row['cook_time']])*w_cook_time)+' '+ \\\n",
    "            ' '.join([df_row['category']]*w_category)+' '+ \\\n",
    "            ' '.join([df_row['tags']]*w_tags)\n"
   ]
  },
  {
   "cell_type": "code",
   "execution_count": 44,
   "id": "b81fbf8d-12d1-495d-939c-2a14cbfa4d42",
   "metadata": {
    "tags": []
   },
   "outputs": [],
   "source": [
    "df['features'] = df.apply(concatenate_features,axis=1)"
   ]
  },
  {
   "cell_type": "code",
   "execution_count": 55,
   "id": "383308be-7162-4a70-afab-5df244216c30",
   "metadata": {
    "tags": []
   },
   "outputs": [],
   "source": [
    "# pre-processing text of features\n",
    "\n",
    "def process_text(text):\n",
    "    # replace multiple spaces with one\n",
    "    text = ' '.join(text.split())\n",
    "    # lowercase\n",
    "    text=text.lower()\n",
    "\n",
    "    return text\n",
    "\n",
    "df['features'] = df.apply(lambda x: process_text(x.features),axis=1)\n"
   ]
  },
  {
   "cell_type": "code",
   "execution_count": 56,
   "id": "3854eb96-3947-4389-81da-71327838c530",
   "metadata": {
    "tags": []
   },
   "outputs": [],
   "source": [
    "vect = CountVectorizer(stop_words='english')\n",
    "\n",
    "vect_matrix = vect.fit_transform(df['features'])\n",
    "\n",
    "cosine_similarity_matrix_count_based = cosine_similarity(vect_matrix, vect_matrix)"
   ]
  },
  {
   "cell_type": "code",
   "execution_count": 57,
   "id": "d220bdca-f8dd-4323-ac0b-a07b71282dcd",
   "metadata": {
    "tags": []
   },
   "outputs": [
    {
     "data": {
      "text/plain": [
       "2500                           Goan Batata Recheado Recipe With Carrots & Beans\n",
       "636                                                 Goan Prawns Vindaloo Recipe\n",
       "2479                                                    Goan Gawar Bhaji Recipe\n",
       "151                                                 Goan Vegetable Curry Recipe\n",
       "6743           गोअन एग ड्राप करी रेसिपी - Goan Egg Drop Curry (Recipe In Hindi)\n",
       "458                    Mushroom Caldine Recipe | Vegetarian Goan Mushroom Curry\n",
       "5576            Doodanche Fov Recipe (Goan Style Milk Beaten Rice/Poha In Milk)\n",
       "6537                     दही वाली भिन्डी रेसिपी - Dahi Bhindi (Recipe In Hindi)\n",
       "6235                                                       Prawn Balchao Recipe\n",
       "6279    The Goan Kelyachyo Fodi Recipe (Spicy & Crispy Pan Fried Banana Recipe)\n",
       "5376                         Goan Style Dhayanche Fov Recipe (Curd Poha Recipe)\n",
       "6653     Goan Style Sando Recipe (Steamed Rice Cakes Filled With Sweet Coconut)\n",
       "7943                                        Goan Style Mushroom Shagoti Recipe \n",
       "Name: recipe_title, dtype: object"
      ]
     },
     "execution_count": 57,
     "metadata": {},
     "output_type": "execute_result"
    }
   ],
   "source": [
    "recommendations('Goan Sorak Curry Recipe', dfkaki, cosine_similarity_matrix_count_based, 13)"
   ]
  },
  {
   "cell_type": "code",
   "execution_count": null,
   "id": "a9260143-ddb6-4e81-b1fb-2747302b4812",
   "metadata": {},
   "outputs": [],
   "source": []
  },
  {
   "cell_type": "markdown",
   "id": "48dcd306-6e1c-49f5-abd1-5283664f5403",
   "metadata": {
    "tags": []
   },
   "source": [
    "# load model"
   ]
  },
  {
   "cell_type": "code",
   "execution_count": 13,
   "id": "1246949c-99ca-40b6-befa-a09c5c108d6c",
   "metadata": {
    "tags": []
   },
   "outputs": [],
   "source": [
    "def _process_text(text):\n",
    "    text = ' '.join(text.split())\n",
    "    text = text.lower()\n",
    "\n",
    "    return text\n",
    "\n",
    "\n",
    "def _calc_model(all_recipes):\n",
    "    df = all_recipes[all_recipes['description'].notna()]\n",
    "    df['description'] = df.apply(lambda x: _process_text(x.description), axis=1)\n",
    "\n",
    "    tf_idf = TfidfVectorizer(stop_words='english')\n",
    "    tf_idf_matrix = tf_idf.fit_transform(df['description'])\n",
    "    cosine_similarity_matrix = cosine_similarity(tf_idf_matrix, tf_idf_matrix)\n",
    "\n",
    "    joblib.dump(cosine_similarity_matrix, '../models/tf_idf.joblib')\n"
   ]
  },
  {
   "cell_type": "code",
   "execution_count": 14,
   "id": "845e1671-0f88-4eac-a32a-6187652fccf5",
   "metadata": {
    "tags": []
   },
   "outputs": [],
   "source": [
    "all_recipes = pd.read_parquet('../dataset/recipes.parquet.gzip')"
   ]
  },
  {
   "cell_type": "code",
   "execution_count": 15,
   "id": "fd1e6965-cce3-4d0b-abad-eeda60748c32",
   "metadata": {
    "tags": []
   },
   "outputs": [],
   "source": [
    "_calc_model(all_recipes)"
   ]
  },
  {
   "cell_type": "code",
   "execution_count": 18,
   "id": "8b97ad0c-0e09-4d31-a346-91cc58efa5cf",
   "metadata": {
    "tags": []
   },
   "outputs": [
    {
     "data": {
      "text/plain": [
       "Int64Index([   0,    1,    2,    3,    4,    5,    6,    7,    8,    9,\n",
       "            ...\n",
       "            7999, 8000, 8001, 8002, 8003, 8004, 8005, 8006, 8007, 8008],\n",
       "           dtype='int64', length=7685)"
      ]
     },
     "execution_count": 18,
     "metadata": {},
     "output_type": "execute_result"
    }
   ],
   "source": [
    "all_recipes.index"
   ]
  },
  {
   "cell_type": "code",
   "execution_count": 13,
   "id": "711c68b0-a80a-4c27-8d15-a5e6e603fe9f",
   "metadata": {
    "tags": []
   },
   "outputs": [
    {
     "data": {
      "text/plain": [
       "array([[1.        , 0.0337129 , 0.05395738, ..., 0.01681173, 0.01764909,\n",
       "        0.01355815],\n",
       "       [0.0337129 , 1.        , 0.02647728, ..., 0.02879546, 0.00495894,\n",
       "        0.03535348],\n",
       "       [0.05395738, 0.02647728, 1.        , ..., 0.03452351, 0.01621537,\n",
       "        0.0127036 ],\n",
       "       ...,\n",
       "       [0.01681173, 0.02879546, 0.03452351, ..., 1.        , 0.00800622,\n",
       "        0.06164382],\n",
       "       [0.01764909, 0.00495894, 0.01621537, ..., 0.00800622, 1.        ,\n",
       "        0.00763376],\n",
       "       [0.01355815, 0.03535348, 0.0127036 , ..., 0.06164382, 0.00763376,\n",
       "        1.        ]])"
      ]
     },
     "execution_count": 13,
     "metadata": {},
     "output_type": "execute_result"
    }
   ],
   "source": [
    "cosine_similarity_matrix"
   ]
  },
  {
   "cell_type": "code",
   "execution_count": 19,
   "id": "f826ecfb-7a04-47b9-89e3-a99c64ee9b78",
   "metadata": {
    "tags": []
   },
   "outputs": [],
   "source": [
    "from joblib import dump, load\n",
    "\n",
    "def save_model(model, filename):\n",
    "    joblib.dump(model, filename)\n",
    "\n",
    "def load_model(filename):\n",
    "    model = joblib.load(filename)\n",
    "    return model\n"
   ]
  },
  {
   "cell_type": "code",
   "execution_count": 23,
   "id": "9246e915-3ab9-4e67-8611-8548db18fb20",
   "metadata": {
    "tags": []
   },
   "outputs": [
    {
     "name": "stdout",
     "output_type": "stream",
     "text": [
      "CPU times: user 23.9 ms, sys: 245 ms, total: 269 ms\n",
      "Wall time: 563 ms\n"
     ]
    }
   ],
   "source": [
    "%%time\n",
    "save_model(cosine_similarity_matrix, 'tf_idf.joblib')"
   ]
  },
  {
   "cell_type": "code",
   "execution_count": 20,
   "id": "3c961087-7511-468e-a5ac-7b0c22f3f1ed",
   "metadata": {
    "tags": []
   },
   "outputs": [
    {
     "name": "stdout",
     "output_type": "stream",
     "text": [
      "CPU times: user 29.4 ms, sys: 142 ms, total: 171 ms\n",
      "Wall time: 250 ms\n"
     ]
    }
   ],
   "source": [
    "%%time\n",
    "new_data = joblib.load('../models/tf_idf.joblib')"
   ]
  },
  {
   "cell_type": "code",
   "execution_count": 24,
   "id": "60afcafc-06ee-4047-8def-cefdf5f46359",
   "metadata": {
    "tags": []
   },
   "outputs": [
    {
     "data": {
      "text/plain": [
       "array([0.01355815, 0.03535348, 0.0127036 , ..., 0.06164382, 0.00763376,\n",
       "       1.        ])"
      ]
     },
     "execution_count": 24,
     "metadata": {},
     "output_type": "execute_result"
    }
   ],
   "source": [
    "new_data[7684]"
   ]
  },
  {
   "cell_type": "code",
   "execution_count": 33,
   "id": "7ae5ed97-36c4-4c06-a71b-29330d3b561b",
   "metadata": {
    "tags": []
   },
   "outputs": [
    {
     "name": "stdout",
     "output_type": "stream",
     "text": [
      "Column Name :  total_time <class 'numpy.int64'>\n",
      "Column Name :  difficulty <class 'str'>\n",
      "Column Name :  image <class 'str'>\n",
      "Column Name :  category <class 'str'>\n",
      "Column Name :  tags <class 'numpy.ndarray'>\n",
      "Column Name :  author <class 'str'>\n",
      "Column Name :  instructions <class 'list'>\n",
      "Column Name :  ingredients <class 'bytes'>\n",
      "Column Name :  cook_time <class 'numpy.int64'>\n",
      "Column Name :  prep_time <class 'numpy.int64'>\n",
      "Column Name :  diet <class 'str'>\n",
      "Column Name :  course <class 'str'>\n",
      "Column Name :  cuisine <class 'str'>\n",
      "Column Name :  description <class 'str'>\n",
      "Column Name :  rating <class 'numpy.float64'>\n",
      "Column Name :  vote_count <class 'numpy.int64'>\n",
      "Column Name :  record_health <class 'str'>\n",
      "Column Name :  url <class 'str'>\n",
      "Column Name :  recipe_title <class 'str'>\n"
     ]
    }
   ],
   "source": [
    "for column in reversed(all_recipes.columns):\n",
    "    print('Column Name : ', column, type(all_recipes[column][0]))\n",
    "    # df[column] = df[column].apply(lambda x: np.array(x))\n",
    "    "
   ]
  },
  {
   "cell_type": "code",
   "execution_count": 32,
   "id": "240d8691-3db3-4212-8cc1-2d413bf7c655",
   "metadata": {
    "tags": []
   },
   "outputs": [
    {
     "name": "stderr",
     "output_type": "stream",
     "text": [
      "/var/folders/3j/_zy32sdx4s58w0nwxnq0zgvw0000gn/T/ipykernel_59549/73190061.py:1: DeprecationWarning: tostring() is deprecated. Use tobytes() instead.\n",
      "  all_recipes['ingredients'] = all_recipes['ingredients'].apply(lambda x: x.tostring() if x is not None else x)\n"
     ]
    }
   ],
   "source": [
    "all_recipes['ingredients'] = all_recipes['ingredients'].apply(lambda x: x.tostring() if x is not None else x)\n"
   ]
  },
  {
   "cell_type": "code",
   "execution_count": 34,
   "id": "9678242f-a336-4d7b-a257-2298532b47df",
   "metadata": {
    "collapsed": true,
    "jupyter": {
     "outputs_hidden": true
    },
    "tags": []
   },
   "outputs": [
    {
     "data": {
      "text/html": [
       "<div>\n",
       "<style scoped>\n",
       "    .dataframe tbody tr th:only-of-type {\n",
       "        vertical-align: middle;\n",
       "    }\n",
       "\n",
       "    .dataframe tbody tr th {\n",
       "        vertical-align: top;\n",
       "    }\n",
       "\n",
       "    .dataframe thead th {\n",
       "        text-align: right;\n",
       "    }\n",
       "</style>\n",
       "<table border=\"1\" class=\"dataframe\">\n",
       "  <thead>\n",
       "    <tr style=\"text-align: right;\">\n",
       "      <th></th>\n",
       "      <th>recipe_title</th>\n",
       "      <th>url</th>\n",
       "      <th>record_health</th>\n",
       "      <th>vote_count</th>\n",
       "      <th>rating</th>\n",
       "      <th>description</th>\n",
       "      <th>cuisine</th>\n",
       "      <th>course</th>\n",
       "      <th>diet</th>\n",
       "      <th>prep_time</th>\n",
       "      <th>cook_time</th>\n",
       "      <th>ingredients</th>\n",
       "      <th>instructions</th>\n",
       "      <th>author</th>\n",
       "      <th>tags</th>\n",
       "      <th>category</th>\n",
       "      <th>image</th>\n",
       "      <th>difficulty</th>\n",
       "      <th>total_time</th>\n",
       "    </tr>\n",
       "  </thead>\n",
       "  <tbody>\n",
       "    <tr>\n",
       "      <th>0</th>\n",
       "      <td>Roasted Peppers And Mushroom Tortilla Pizza Recipe</td>\n",
       "      <td>https://www.archanaskitchen.com/roasted-peppers-and-mushroom-tortilla-pizza-recipe</td>\n",
       "      <td>good</td>\n",
       "      <td>434</td>\n",
       "      <td>4.791120</td>\n",
       "      <td>Tortilla Pizza is a quicker version pizza to satisfy your cravings. It is a very quick and easy recipe for days that you do not feel like cooking a full fledged meal. With the preference of toppings of your choice this pizza recipe is definitely a winner at any home. The toppings used in this Roasted Peppers And Mushroom Tortilla Pizza has some roasted peppers, mushroom with loaded cheese and marinara sauce. Enjoy this easy recipe with your favorite toppings. This is a great recipe, if you are looking for an Indian/Fusion Pizza or a Homemade Pizza recipe. Serve Roasted Peppers And Mushroom Tortilla Pizza along with One Pot Tex-Mex Penne Pasta and Fennel Infused Mango Sorbet for a weekend night dinner.</td>\n",
       "      <td>Mexican</td>\n",
       "      <td>Dinner</td>\n",
       "      <td>Vegetarian</td>\n",
       "      <td>15</td>\n",
       "      <td>15</td>\n",
       "      <td>b'\\xd0h{\\x89\\x02\\x00\\x00\\x00 i{\\x89\\x02\\x00\\x00\\x000\\x80\\xd0\\x89\\x02\\x00\\x00\\x00pi{\\x89\\x02\\x00\\x00\\x00\\x90\\x80\\xd0\\x89\\x02\\x00\\x00\\x000[n\\x89\\x02\\x00\\x00\\x00\\xc0i{\\x89\\x02\\x00\\x00\\x00\\xf0\\x80\\xd0\\x89\\x02\\x00\\x00\\x00P\\x81\\xd0\\x89\\x02\\x00\\x00\\x00'</td>\n",
       "      <td>[To begin making the Roasted Peppers And Mushroom Tortilla Pizza recipe, turn your oven setting to broiler and keep it ready., Grease your cast iron skillet with some olive oil and heat it over high heat., When it starts to shimmer bring down the heat to medium. Add olive oil and minced garlic to the marinara sauce and stir to combine, keep aside., Place one tortilla on the cast iron skillet. Spread a thin layer of marinara sauce over the tortilla., Spread the cheese as needed. When the cheese starts to melt, add in the toppings which includes onion, mushrooms, olives and bell peppers., Now shift the cast iron skillet to the oven which is already under broiler setting., When you see the cheese all melted and top starting to brown, remove and slice to serve., Serve Roasted Peppers And Mushroom Tortilla Pizza along with One Pot Tex-Mex Penne Pasta and Fennel Infused Mango Sorbet for a weekend night dinner.]</td>\n",
       "      <td>Divya Shivaraman</td>\n",
       "      <td>[Party Food Recipes, Tea Party Recipes, Mushroom Recipes, Fusion Recipes, Tortilla Recipe, Bell Peppers Recipes]</td>\n",
       "      <td>Pizza Recipes</td>\n",
       "      <td>https://www.archanaskitchen.com/images/archanaskitchen/1-Author/divya_shivaraman/Roasted_peppers_and_Mushroom_Tortilla_Pizza.jpg</td>\n",
       "      <td>Easy</td>\n",
       "      <td>30</td>\n",
       "    </tr>\n",
       "    <tr>\n",
       "      <th>1</th>\n",
       "      <td>Thakkali Gotsu Recipe | Thakkali Curry | Spicy &amp; Tangy Tomato Gravy</td>\n",
       "      <td>https://www.archanaskitchen.com/tomato-gotsu-recipe-spicy-tangy-tomato-gravy</td>\n",
       "      <td>good</td>\n",
       "      <td>3423</td>\n",
       "      <td>4.658654</td>\n",
       "      <td>Tomato Gotsu Recipe also known as the Thakkali Curry is a quick and easy to make, spicy and tangy tomato gravy you can prepare for a change as a breakfast accompaniment or even as a side dish along with Ven Pongal, Khichdi, Paratha or Dosa. Tomato Gotsu that is packed with simple flavours from roasted baby onions simmered along with tamarind and sambar powder giving it that delectable taste. Serve Tomato Gotsu / Thakkali Curry Recipe with Ven Pongal and  South Indian Filter Coffee for breakfast.</td>\n",
       "      <td>South Indian Recipes</td>\n",
       "      <td>Lunch</td>\n",
       "      <td>Vegetarian</td>\n",
       "      <td>10</td>\n",
       "      <td>20</td>\n",
       "      <td>b'\\xb0\\x81\\xd0\\x89\\x02\\x00\\x00\\x00\\x10\\x82\\xd0\\x89\\x02\\x00\\x00\\x00p\\x82\\xd0\\x89\\x02\\x00\\x00\\x00\\xd0\\x82\\xd0\\x89\\x02\\x00\\x00\\x000\\x83\\xd0\\x89\\x02\\x00\\x00\\x00pdd\\x88\\x02\\x00\\x00\\x00\\x90\\x83\\xd0\\x89\\x02\\x00\\x00\\x00\\x10j{\\x89\\x02\\x00\\x00\\x00\\xf0\\x83\\xd0\\x89\\x02\\x00\\x00\\x000Pd\\x88\\x02\\x00\\x00\\x00`j{\\x89\\x02\\x00\\x00\\x00'</td>\n",
       "      <td>[To begin making Tomato Gotsu Recipe/ Thakkali Curry Recipe, prepare all the ingredients and keep them ready., Soak the tamarind in hot water for 20 minutes. Extract the water from the tamarind to get about 1/2 cup of thick tamarind., Roughly chop the tomatoes and pulse the chopped tomatoes in a mixer grinder. You want a chunky sauce and not a fine puree. This will help add texture to the Tomato Gotsu., Heat oil in a pressure cooker on medium heat, add the mustard seeds and allow it to crackle. Add the curry leaves, garlic and onions and saute until the onions turn tender and translucent., Now, add the crushed  tomatoes, tamarind water, turmeric powder, sambar powder,  salt and jaggery. Stir the Tomato Gotsu and pressure cook for 2 whistles., Turn off the heat and allow the pressure to release naturally. Once the pressure releases, open the cooker and give the Tomato Gotsu/ Thakkali Curry a stir., Check the salt and spices and adjust to taste accordingly. Transfer the Tomato Gotsu/ Thakkali Curry to a serving bowl and serve hot., Serve Tomato Gotsu / Thakkali Curry with Ven Pongal and  South Indian Filter Coffee for breakfast.]</td>\n",
       "      <td>Archana Doshi</td>\n",
       "      <td>[Vegetarian Recipes, Tomato Recipes, South Indian Recipes, Breakfast Recipe Ideas]</td>\n",
       "      <td>Indian Curry Recipes</td>\n",
       "      <td>https://www.archanaskitchen.com/images/archanaskitchen/0-Archanas-Kitchen-Recipes/2020/Tomato_Gotsu_recipe_1600.jpg</td>\n",
       "      <td>Easy</td>\n",
       "      <td>30</td>\n",
       "    </tr>\n",
       "    <tr>\n",
       "      <th>2</th>\n",
       "      <td>Spicy Grilled Pineapple Salsa Recipe</td>\n",
       "      <td>https://www.archanaskitchen.com/spicy-grilled-pineapple-salsa-recipe</td>\n",
       "      <td>good</td>\n",
       "      <td>2091</td>\n",
       "      <td>4.727832</td>\n",
       "      <td>Spicy Grilled Pineapple Salsa is a simple recipe of a tropical salsa and is bursting with sweet and spicy flavors. It's the perfect summer dish, best served cold. Grilled Pineapple Salsa can be enjoyed on its own or it can be filled in the tacos along with chili beans and sour cream. Spicy Grilled Pineapple Salsa can be a great appetizer for the barbecue party as well along with some nachos. Serve Spicy Grilled Pineapple Salsa along Baked Corn &amp; Flour Tortilla Chips Flavored With Paprika Recipe as an appetizer along with a meal of Mexican Vegetarian Bean &amp; Cheese Enchiladas Recipe and Fig Tiramisu With Gingerbread Dust Recipe for dessert. Other recipes that you can try are:</td>\n",
       "      <td>Mexican</td>\n",
       "      <td>Side Dish</td>\n",
       "      <td>Vegetarian</td>\n",
       "      <td>10</td>\n",
       "      <td>0</td>\n",
       "      <td>b'P\\x84\\xd0\\x89\\x02\\x00\\x00\\x00\\xb0\\x84\\xd0\\x89\\x02\\x00\\x00\\x00\\x10\\x85\\xd0\\x89\\x02\\x00\\x00\\x00\\xb0[n\\x89\\x02\\x00\\x00\\x00p\\x85\\xd0\\x89\\x02\\x00\\x00\\x00\\xd0,j\\x89\\x02\\x00\\x00\\x00\\xd0\\x85\\xd0\\x89\\x02\\x00\\x00\\x00pqd\\x88\\x02\\x00\\x00\\x00\\xb0j{\\x89\\x02\\x00\\x00\\x00\\x00k{\\x89\\x02\\x00\\x00\\x00'</td>\n",
       "      <td>[To begin making the Spicy Grilled Pineapple Salsa Recipe, start by prepping all the ingredients and fine chopping the elements., Heat oil in a grill pan over medium heat; place the sliced pineapple and sprinkle with salt. Cover the pan and cook the pineapple until it's soft and has lightly grilled texture. Keep turning it around until golden brown on both sides., Once done, allow it to cool and finely chop the pineapple., In a large mixing bowl, combine the grilled pineapple, onions, jalapenos, bell peppers, coriander leaves and mint leaves. Give it a good mix., Finally toss in the salt, lemon juice and smoked paprika to make the Grilled Pineapple Salsa., Refrigerate the Grilled Pineapple Salsa for at least 2 hours and serve chilled, Serve Spicy Grilled Pineapple Salsa along Baked Corn &amp; Flour Tortilla Chips Flavored With Paprika  as an appetizer along with a meal of Mexican Vegetarian Bean &amp; Cheese Enchiladas Recipe and Fig Tiramisu With Gingerbread Dust Recipe for dessert.]</td>\n",
       "      <td>Archana's Kitchen</td>\n",
       "      <td>[Party Starter &amp; Appetizer Recipes, Pineapple Recipes, Salsa Recipes]</td>\n",
       "      <td>Mexican Recipes</td>\n",
       "      <td>https://www.archanaskitchen.com/images/archanaskitchen/1-Author/Richa_Gupta/Spicy_Grilled_Pineapple_Salsa_Recipe_1_1600.jpg</td>\n",
       "      <td>Easy</td>\n",
       "      <td>10</td>\n",
       "    </tr>\n",
       "    <tr>\n",
       "      <th>3</th>\n",
       "      <td>Karwar Style Dali Thoy Recipe - Toor dal Curry</td>\n",
       "      <td>https://www.archanaskitchen.com/dali-thoy-recipe-karwar-style-toor-dal-curry</td>\n",
       "      <td>good</td>\n",
       "      <td>990</td>\n",
       "      <td>4.440409</td>\n",
       "      <td>The Karwar Style Dali Thoy Recipe (Toor dal Curry) is a quintessential of Konkani dish which is popular among Mangaloreans from Kongunadu. It is a spiced toor dal stew dish which is a simple dish. When you crave for something very light, comforting yet delicious you can rely on this simple curry. Serve the Karwar Style Dali Thoy Recipe (Toor dal Curry) with steamed rice to make a simple satisfying meal.</td>\n",
       "      <td>Coastal Karnataka</td>\n",
       "      <td>Side Dish</td>\n",
       "      <td>High Protein Vegetarian</td>\n",
       "      <td>5</td>\n",
       "      <td>20</td>\n",
       "      <td>b'0\\x86\\xd0\\x89\\x02\\x00\\x00\\x00\\xf0\\x83\\xd0\\x89\\x02\\x00\\x00\\x000ed\\x88\\x02\\x00\\x00\\x00Pk{\\x89\\x02\\x00\\x00\\x00\\xa0k{\\x89\\x02\\x00\\x00\\x00\\x90\\x86\\xd0\\x89\\x02\\x00\\x00\\x00\\xf0k{\\x89\\x02\\x00\\x00\\x00@l{\\x89\\x02\\x00\\x00\\x00\\xf0\\x86\\xd0\\x89\\x02\\x00\\x00\\x00'</td>\n",
       "      <td>[To prepare Karwar Style Dali Thoy Recipe (Toor dal Curry), rinse toor dal in water and then pressure cook with 1 cup water and turmeric powder for about 2 whistles., turn off the flame an allow the pressure to release naturally., In a pan heat ghee on medium flame. Add mustard seeds and let it splutter., Then add dried red chilies, hing, and curry leaves. Saute till curry leaves splutter and turn off the heat., Mash the cooked dal well, add salt to taste. Add the tempering and fresh coriander leaves. Mix well., Serve the Karwar Style Dali Thoy Recipe (Toor dal Curry) with steamed rice to make a simple satisfying meal.]</td>\n",
       "      <td>Jyothi Rajesh</td>\n",
       "      <td>[Side Dish Recipes, South Indian Recipes, Indian Lunch Recipes, Indian Vegetarian Recipes, Toor Dal Recipes (Pigeon Pea)]</td>\n",
       "      <td>Indian Curry Recipes</td>\n",
       "      <td>https://www.archanaskitchen.com/images/archanaskitchen/1-Author/jyothir/Dali_Thoy_Karwar_Toor_dal_Curry.jpg</td>\n",
       "      <td>Easy</td>\n",
       "      <td>25</td>\n",
       "    </tr>\n",
       "    <tr>\n",
       "      <th>4</th>\n",
       "      <td>Rajma Kofta In Milk And Poppy Seed Gravy Recipe</td>\n",
       "      <td>https://www.archanaskitchen.com/rajma-kofta-in-milk-and-poppy-seed-gravy-recipe</td>\n",
       "      <td>good</td>\n",
       "      <td>345</td>\n",
       "      <td>4.138716</td>\n",
       "      <td>Koftas are traditional Indian recipes mostly well done by the vegetarians. A peculiar variation is the key for making interesting koftas and this Rajma Kofta In Milk And Poppy Seed Gravy Recipe uses cooked rajma paste instead of regular besan, lentils etc as the basic ingredient to make the yummy kofta balls for shallow frying in paniyaram pan. Once fried those can be served as an appetizer but I have cooked a special gravy with milk and poppy seeds paste to make this recipe a delightful vegetarian side dish which can be served with various flatbreads or rice recipes. Serve Rajma Kofta In Milk And Poppy Seed Gravy Recipe along with Saffron Pilaf Recipe (Kesar Pulao) and Pudina Tawa Paratha Recipe for lunch or dinner with Green Moong Sprout Salad With Capsicum And Carrots to complete the meal.</td>\n",
       "      <td>North Indian Recipes</td>\n",
       "      <td>Side Dish</td>\n",
       "      <td>High Protein Vegetarian</td>\n",
       "      <td>20</td>\n",
       "      <td>30</td>\n",
       "      <td>b'P\\x87\\xd0\\x89\\x02\\x00\\x00\\x00\\x90l{\\x89\\x02\\x00\\x00\\x00\\xe0l{\\x89\\x02\\x00\\x00\\x000m{\\x89\\x02\\x00\\x00\\x00\\xb0\\x87\\xd0\\x89\\x02\\x00\\x00\\x00\\x10\\x88\\xd0\\x89\\x02\\x00\\x00\\x00\\x80m{\\x89\\x02\\x00\\x00\\x00p\\x88\\xd0\\x89\\x02\\x00\\x00\\x00\\xd0m{\\x89\\x02\\x00\\x00\\x00\\xd0\\x88\\xd0\\x89\\x02\\x00\\x00\\x00 n{\\x89\\x02\\x00\\x00\\x000Id\\x88\\x02\\x00\\x00\\x000\\x89\\xd0\\x89\\x02\\x00\\x00\\x00pn{\\x89\\x02\\x00\\x00\\x000ed\\x88\\x02\\x00\\x00\\x00\\x90\\x89\\xd0\\x89\\x02\\x00\\x00\\x00'</td>\n",
       "      <td>[To begin making Rajma Kofta In Milk And Poppy Seed Gravy Recipe, prepare the koftas first. Remember to first soak the rajma overnight and pressure cook with salt until the rajma is cooked and softened., Blend the boiled rajma, besan, cashew, raisins, chilli powder, hing, coriander leaves and salt in a food processor. Check for seasoning and adjust. Spread this mashed spiced rajma on a thali or a large plate. Make small round balls of rajma kofta with your palm., Heat a frying pan with half ghee and fry the kofta balls for about 10 minutes. Set aside., What you can also do is, heat a kuzhi paniyaram pan, drop in a few drops of oil into each cavity and put in these balls into each cavity. Once browned on the bottom, you can rotate the kofta balls and brown them evenly from the other side as well. This is a healthier way to prepare koftas instead of deep frying them in traditional way., Take a kadai and heat ghee, add cumin and allow to sizzle., Once sizzling, add in milk, cream, poppy seed paste and garam masala powder. Add salt and stir. Add water only if needed., Cook till the mixture comes to one boil and add the koftas and Switch off heat after half a minute. Serve with your favourite garnish like saffron or coriander leaves., Serve Rajma Kofta In Milk And Poppy Seed Gravy Recipe along with Saffron Pilaf Recipe (Kesar Pulao) and Pudina Tawa Paratha Recipe for lunch or dinner with Green Moong Sprout Salad With Capsicum And Carrots to complete the meal.]</td>\n",
       "      <td>RUBY PATHAK</td>\n",
       "      <td>[Side Dish Recipes, Indian Lunch Recipes, Office Lunch Box Recipes, Rajma Kidney Bean Recipes, Poppy Seeds Recipes]</td>\n",
       "      <td>Kofta Recipes</td>\n",
       "      <td>https://www.archanaskitchen.com/images/archanaskitchen/1-Author/ruby_pathak-yahoo.com/Rajma_Kofta_in_Milk_and_Poppy_Seed_Gravy.jpg</td>\n",
       "      <td>Moderate</td>\n",
       "      <td>50</td>\n",
       "    </tr>\n",
       "    <tr>\n",
       "      <th>...</th>\n",
       "      <td>...</td>\n",
       "      <td>...</td>\n",
       "      <td>...</td>\n",
       "      <td>...</td>\n",
       "      <td>...</td>\n",
       "      <td>...</td>\n",
       "      <td>...</td>\n",
       "      <td>...</td>\n",
       "      <td>...</td>\n",
       "      <td>...</td>\n",
       "      <td>...</td>\n",
       "      <td>...</td>\n",
       "      <td>...</td>\n",
       "      <td>...</td>\n",
       "      <td>...</td>\n",
       "      <td>...</td>\n",
       "      <td>...</td>\n",
       "      <td>...</td>\n",
       "      <td>...</td>\n",
       "    </tr>\n",
       "    <tr>\n",
       "      <th>8004</th>\n",
       "      <td>Zucchini and Carrot Pasta Recipe</td>\n",
       "      <td>https://www.archanaskitchen.com/zucchini-and-carrot-pasta-recipe</td>\n",
       "      <td>good</td>\n",
       "      <td>738</td>\n",
       "      <td>4.672434</td>\n",
       "      <td>Zucchini And Carrot Pasta Recipe is a healthy recipe which can be served over for dinner. Zucchini helps in lowering the cholesterol levels, weight management, prevent cancer etc. and carrot is the finest source of vitamins &amp; minerals. The combination of Zucchini and carrot makes the dish healthy and ample amount of nutrition is available in this dish. You can serve Zucchini And Carrot Pasta with a slice of garlic bread on the side.</td>\n",
       "      <td>Italian Recipes</td>\n",
       "      <td>Dinner</td>\n",
       "      <td>Vegetarian</td>\n",
       "      <td>10</td>\n",
       "      <td>30</td>\n",
       "      <td>b'0\\x1c\\xf6\\x89\\x02\\x00\\x00\\x00\\xb0\\x8c\\xf7\\x89\\x02\\x00\\x00\\x00\\x00\\x8d\\xf7\\x89\\x02\\x00\\x00\\x00\\xb0\\xf7\\xe3\\x89\\x02\\x00\\x00\\x00p,\\xf7\\x89\\x02\\x00\\x00\\x00P\\xc3\\xd0\\x89\\x02\\x00\\x00\\x00\\x10L\\xd1\\x89\\x02\\x00\\x00\\x000\\xe3\\xdb\\x89\\x02\\x00\\x00\\x00\\x10\\xcc\\xd0\\x89\\x02\\x00\\x00\\x00pqd\\x88\\x02\\x00\\x00\\x000\\xcc\\xd1\\x89\\x02\\x00\\x00\\x00\\x90\\xa7\\xd2\\x89\\x02\\x00\\x00\\x00'</td>\n",
       "      <td>[To begin with Zucchini And Carrot Pasta Recipe, heat oil in a pan and add onions and sauté it till it turns golden., Add chopped tomatoes, salt, dried oregano, dried basil, black pepper powder and mix well. Let the tomatoes cook until they become pasty., Now add sugar and mix it. Your Tomato sauce is ready. Keep it aside., Heat 1 tablespoon oil in another pan. Add zucchini, carrot, salt, green chilies and mix well., Add boiled pasta, mix well and sauté it for 2-3 mins., Now add the prepared tomato sauce on top of the pasta and give it a stir., Your Zucchini And Carrot Pasta Recipe is ready to be served you can great some Parmesan chesse on top., You can serve Zucchini And Carrot Pasta with a slice of garlic bread on the side.]</td>\n",
       "      <td>Aarti Sharma</td>\n",
       "      <td>[Vegetarian Recipes, Carrot Recipes, Zucchini Recipes, Mother's Day Recipe Contest 2016]</td>\n",
       "      <td>Pasta Recipes</td>\n",
       "      <td>https://www.archanaskitchen.com/images/archanaskitchen/1-Author/Aarti_Sharma/Zucchini_and_Carrot_Pasta.jpg</td>\n",
       "      <td>Easy</td>\n",
       "      <td>40</td>\n",
       "    </tr>\n",
       "    <tr>\n",
       "      <th>8005</th>\n",
       "      <td>Hyderabadi Khatti Dal Recipe (Hyderabadi Tangy Lentil Curry)</td>\n",
       "      <td>https://www.archanaskitchen.com/hyderabadi-khatti-dal-recipe-hyderabadi-tangy-lentil-curry</td>\n",
       "      <td>good</td>\n",
       "      <td>5173</td>\n",
       "      <td>4.512237</td>\n",
       "      <td>Hyderabadi Khatti Dal is a delicious tangy dal preparation tempered with curry leaves, mustard seeds, cumin, dry red chilies and garlic having balanced flavour of sourness and spiciness. Hyderabadi khatti dal couples up beautifully with steamed rice, pickle, side with any dry veggie preparation. Although we have used Toor dal, you can use even Masoor dal (red lentils) for making this Khatti dal. Traditionally for sourness, tamarind pulp is used but you can substitute it with lemon juice too. But, the sourness that elevates this dal's flavour is best with tamarind making it the best khatti dal ever. Serve the Hyderabadi Khatti Dal along with Steamed Rice, Kathirikai Roast (brinjal roast) and papad.</td>\n",
       "      <td>Hyderabadi</td>\n",
       "      <td>Lunch</td>\n",
       "      <td>High Protein Vegetarian</td>\n",
       "      <td>20</td>\n",
       "      <td>40</td>\n",
       "      <td>b'0\\x86\\xd0\\x89\\x02\\x00\\x00\\x00`\\xc2\\xd0\\x89\\x02\\x00\\x00\\x00\\xf0\\x83\\xd0\\x89\\x02\\x00\\x00\\x00\\xb0\\xc2\\xd0\\x89\\x02\\x00\\x00\\x00\\xe0\\xb6\\xdd\\x89\\x02\\x00\\x00\\x00\\xf0R\\xd1\\x89\\x02\\x00\\x00\\x00\\xd0,\\xf7\\x89\\x02\\x00\\x00\\x00P\\x8d\\xf7\\x89\\x02\\x00\\x00\\x00pRd\\x88\\x02\\x00\\x00\\x00\\x90\\x86\\xd0\\x89\\x02\\x00\\x00\\x00\\x80\\xc0\\xd0\\x89\\x02\\x00\\x00\\x00\\xa0\\xd2\\xd0\\x89\\x02\\x00\\x00\\x00@l{\\x89\\x02\\x00\\x00\\x00\\x109\\xe6\\x89\\x02\\x00\\x00\\x00\\xf0\\x86\\xd0\\x89\\x02\\x00\\x00\\x00'</td>\n",
       "      <td>[To begin making the Hyderabadi Khatti Dal Recipe, first clean and wash the dal well under running water., In a pressure cooker, add washed dal, garlic, ginger, turmeric, red chili powder, green chili, tomatoes salt and 2 cups of water. Cover the pressure cooker and cook until you hear a couple of whistles. After a couple of whistles, turn the heat to low and cook for 3 minutes approximately and turn off the heat., Allow the pressure in the cooker release naturally. Once the pressure has released, open the cooker., When the dal is done, whisk the dal well to make it smooth. Add tamarind water to the dal and bring the Khatti dal to a brisk boil. Once it comes to a boil, turn the heat to low and set the dal to simmer., Next we will prepare the seasoning., In a small tadka pan heat oil in medium heat.  Add the mustard seeds, cumin seeds and allow it to crackle. Once it Add garlic and fry until it starts getting golden brown.  Add curry leaves and red chilies, fry for another few seconds., Pour the tadka over the dal and simmer for 4 to 5 minutes. Once done, turn off the heat and the Hyderabadi Khatti Dal recipe is ready. Check the salt and adjust to suit your taste. Pour the dal into a serving bowl and garnish with chopped coriander leaves and serve warm., Serve the Hyderabadi Khatti Dal along with Steamed Rice, Kathirikai Roast (brinjal roast) and papad.]</td>\n",
       "      <td>Farrukh Aziz Ansari</td>\n",
       "      <td>[Gluten Free Recipes, Indian Diabetic Recipes]</td>\n",
       "      <td>Indian Curry Recipes</td>\n",
       "      <td>https://www.archanaskitchen.com/images/archanaskitchen/1-Author/Farrukh_Aziz_Ansari/Hyderabadi_Khatti_Dal.jpg</td>\n",
       "      <td>Moderate</td>\n",
       "      <td>60</td>\n",
       "    </tr>\n",
       "    <tr>\n",
       "      <th>8006</th>\n",
       "      <td>Karwar Style Muga Ambat Recipe (Moong Sprouts in Coconut Curry)</td>\n",
       "      <td>https://www.archanaskitchen.com/karwar-style-muga-ambat-recipe</td>\n",
       "      <td>good</td>\n",
       "      <td>1202</td>\n",
       "      <td>4.731843</td>\n",
       "      <td>Karwar Style Muga Ambat Recipe (Moong Sprouts in Coconut Curry) is a curry recipe made from 'Muga' - which refers to the green gram which is mostly sprouted and used in recipes.The sprouted green gram is full of nutrients and is rich in fiber. Even during special occasions like marriages, the green gram curry is served as a side dish to be enjoyed along with rice. Karwar, is a small town near Goa, and boasts of it's unique and distinct cuisine. As it is a coastal town, lots of coconuts and tropical fruits are used as main ingredients in this Karwari Cuisine. Serve Karwar Style Muga Ambat Recipe (Moong Sprouts in Coconut Curry)  and enjoy the deliciousness of Karwar Cuisine. Serve Karwar Style Muga Ambat with Steamed rice or poori and poriyal.</td>\n",
       "      <td>Karnataka</td>\n",
       "      <td>Side Dish</td>\n",
       "      <td>High Protein Vegetarian</td>\n",
       "      <td>10</td>\n",
       "      <td>15</td>\n",
       "      <td>b'\\xd0\\n\\xd2\\x89\\x02\\x00\\x00\\x00\\xe0\\xce\\xd0\\x89\\x02\\x00\\x00\\x000\\x9e\\xd0\\x89\\x02\\x00\\x00\\x00\\x90\\xa7\\xd2\\x89\\x02\\x00\\x00\\x000ed\\x88\\x02\\x00\\x00\\x00\\xa0\\xeb\\xd0\\x89\\x02\\x00\\x00\\x00\\xa0\\xd2\\xd0\\x89\\x02\\x00\\x00\\x000\\xad\\xd0\\x89\\x02\\x00\\x00\\x00pRd\\x88\\x02\\x00\\x00\\x00\\x90\\x86\\xd0\\x89\\x02\\x00\\x00\\x00 P\\xd1\\x89\\x02\\x00\\x00\\x00\\xa0\\x8d\\xf7\\x89\\x02\\x00\\x00\\x00'</td>\n",
       "      <td>[To prepare Karwar Style Muga Ambat Recipe (Moong Sprouts in Coconut Curry), remove the skin of the green gram/moong sprouts by soaking them in water for 20 minutes and then rubbing off with hands., One the moong sprouts are ready, heat a kadai/wok with oil and temper with mustard and curry leaves., Add the onions, sugar and a pinch of salt and keep stirring over low heat till the onions turn brown., Now add the sprouted green gram, tamarind pulp, turmeric powder and mix well and cook them covered over low flame for 5 minutes., Open the lid and add 1 cup of water to the mixture., In a mixer grinder, combine the coconut along with the coriander seeds, salt and red chillies and grind  this along with some water to make a thick coconut paste., Adjust salt and stir in the thick coconut paste into the curry., Mix Muga Ambat well and allow them to cook for another 3-4 minutes and switch off., Serve Karwar Style Muga Ambat (Moong Sprouts in Coconut Curry) with Steamed rice or poori and poriyal to enjoy your everyday meal.]</td>\n",
       "      <td>Archana's Kitchen</td>\n",
       "      <td>[High Protein Vegetarian Diet Recipes, South Indian Recipes, Healthy Recipes, Sprout Recipes, Coconut Milk Recipes, karwar Recipes]</td>\n",
       "      <td>Indian Curry Recipes</td>\n",
       "      <td>https://www.archanaskitchen.com/images/archanaskitchen/0-Archanas-Kitchen-Recipes/2017/4-may/Karwar_Style_Muga_Ambat_Recipe_green_moong_lentil_coocnut_curry-1.jpg</td>\n",
       "      <td>Easy</td>\n",
       "      <td>25</td>\n",
       "    </tr>\n",
       "    <tr>\n",
       "      <th>8007</th>\n",
       "      <td>Beetroot, Amla And Pudina Juice Recipe | Mint Gooseberry Beet Juice</td>\n",
       "      <td>https://www.archanaskitchen.com/beetroot-amla-and-pudina-juice-recipe</td>\n",
       "      <td>good</td>\n",
       "      <td>1305</td>\n",
       "      <td>4.625653</td>\n",
       "      <td>Beetroot, Amla And Pudina Juice is a healthy juice recipe which acts as a great immunity booster and aids in digestion as well. This juice is also a home remedy for anemia since it boosts hemoglobin content in the blood. Serve Beetroot, Amla And Pudina Juice recipe as a refreshing immunity boosting drink any time of the day. This juice can also be served on empty stomach in the early morning.</td>\n",
       "      <td>Indian</td>\n",
       "      <td>Snack</td>\n",
       "      <td>Vegetarian</td>\n",
       "      <td>10</td>\n",
       "      <td>0</td>\n",
       "      <td>b'\\xf0\\x8d\\xf7\\x89\\x02\\x00\\x00\\x000-\\xf7\\x89\\x02\\x00\\x00\\x00p\\xce\\xd6\\x89\\x02\\x00\\x00\\x00@\\x8e\\xf7\\x89\\x02\\x00\\x00\\x00p\\x91\\xd0\\x89\\x02\\x00\\x00\\x00\\xf0\\x9e\\xd0\\x89\\x02\\x00\\x00\\x00\\x10V\\xf7\\x89\\x02\\x00\\x00\\x00'</td>\n",
       "      <td>[To begin making the  Beetroot, Amla And Pudina Juice Recipe, wash and cut all the ingredients and keep them ready., In a mixer jar, combine the beetroot, amla, mint leaves, cucumber, black salt, black pepper powder and roasted jeera powder., To this add 1/2 cup of water and a few ice cubes, grind until the veggies are fully pureed. Once well blended you add additionally add another 1/2 cup of water and ice cubes and blend again to make the juice a little thinner., Once blended give it a taste and add honey if required to sweeten the Beetroot, Amla And Pudina Juice., Serve Beetroot, Amla And Pudina Juice recipe as a refreshing immunity boosting drink any time of the day. This juice can also be served on empty stomach in the early morning.]</td>\n",
       "      <td>Archana's Kitchen</td>\n",
       "      <td>[Healthy Recipes, Beetroot Recipes, Pudina Mint Recipes, Amla Recipes  (Gooseberry)]</td>\n",
       "      <td>Indian Drink Recipes</td>\n",
       "      <td>https://www.archanaskitchen.com/images/archanaskitchen/1-Author/sunshineswati08-gmail.com/Beetroot_Amla_Pudina_Juice_Recipe_1_1600.jpg</td>\n",
       "      <td>Easy</td>\n",
       "      <td>10</td>\n",
       "    </tr>\n",
       "    <tr>\n",
       "      <th>8008</th>\n",
       "      <td>Chettinad Cauliflower Pepper Fry Recipe - Chettinad Poo Kosu Poriyal</td>\n",
       "      <td>https://www.archanaskitchen.com/chettinad-cauliflower-pepper-fry-recipe-milagu-pirattal-poriyal</td>\n",
       "      <td>good</td>\n",
       "      <td>2167</td>\n",
       "      <td>4.070361</td>\n",
       "      <td>Chettinad Poo Kosu Poriyal also known as Chettinad Milagu Pirattal Poriyal is a classic dish from Chettinad (Tamil Nadu). Chettinad Cuisine is very popular for its recipes to use, small onions, black pepper and lots of spices. The addition of black pepper in this cauliflower recipe along with sauteed onions, brings out great taste. Serve the Chettinad Cauliflower Pepper Fry / Milagu Pirattal Poriyal along with Vendakkai Sambar and Steamed Rice for weekend lunch or weeknight dinner.</td>\n",
       "      <td>Tamil Nadu</td>\n",
       "      <td>Lunch</td>\n",
       "      <td>Vegetarian</td>\n",
       "      <td>15</td>\n",
       "      <td>20</td>\n",
       "      <td>b'\\x10\\xef\\xd1\\x89\\x02\\x00\\x00\\x00\\xb0\\xcd\\xd6\\x89\\x02\\x00\\x00\\x00\\xa0z{\\x89\\x02\\x00\\x00\\x00\\xf0\\x83\\xd0\\x89\\x02\\x00\\x00\\x00\\x90q{\\x89\\x02\\x00\\x00\\x00\\xb0\\xc2\\xd0\\x89\\x02\\x00\\x00\\x00\\xb0:\\xd1\\x89\\x02\\x00\\x00\\x00\\xb0o{\\x89\\x02\\x00\\x00\\x000@\\xd2\\x89\\x02\\x00\\x00\\x00\\x00\\xf5\\xd0\\x89\\x02\\x00\\x00\\x00\\x10\\x82\\xd0\\x89\\x02\\x00\\x00\\x00p\\x97\\xd0\\x89\\x02\\x00\\x00\\x00\\x00p{\\x89\\x02\\x00\\x00\\x00`\\x16\\xd4\\x89\\x02\\x00\\x00\\x00'</td>\n",
       "      <td>[To begin making the Chettinad Cauliflower Pepper Fry Recipe (Milagu Pirattal Poriyal), first get all the ingredient ready and keep it by the side. It always helps to have things ready so the cooking process can be faster and quicker., We will steam the cauliflower in the steamer until it is firm and yet cooked. Steaming, retains the nutrition of the vegetable and helps the cooking process of the Chettinad Cauliflower Pepper Fry Recipe faster. This should not take more than 3 to 4 minutes on high heat., Heat a tablespoon of oil in heavy bottomed pan or a kadai on medium heat. Add the mustard seeds and allow it to crackle. Add the chopped onion and garlic and saute on low to medium heat until the onions have turned lightly golden brown., Take care not to burn the onion and garlic. Next add the curry leaves, cloves, turmeric powder, red chilli powder, black pepper, cinnamon and coriander powder. Give it a stir and add the steamed cauliflower florets., Sprinkle some salt and stir all the ingredients carefully until the spices coat the cauliflower well., Turn the heat to low, cover the pan and simmer for about 3 to 4 minutes until the Chettinad Cauliflower is well coated with the masala. Check the salt and spices and adjust to suit your taste., Serve the Chettinad Cauliflower Pepper Fry along with Vendakkai Sambar and Steamed Rice for weekend lunch or weeknight dinner.]</td>\n",
       "      <td>Archana Doshi</td>\n",
       "      <td>[Cauliflower Recipes (Phool Gobi)]</td>\n",
       "      <td>Poriyal Recipes (South Indian Sabzi)</td>\n",
       "      <td>https://www.archanaskitchen.com/images/archanaskitchen/Indian_Vegetables_Dry/Chettinad_Cauliflower_Curry_Milagu_Pirattal_Poriyal_Recipe-9.jpg</td>\n",
       "      <td>Moderate</td>\n",
       "      <td>35</td>\n",
       "    </tr>\n",
       "  </tbody>\n",
       "</table>\n",
       "<p>7685 rows × 19 columns</p>\n",
       "</div>"
      ],
      "text/plain": [
       "                                                              recipe_title  \\\n",
       "0                       Roasted Peppers And Mushroom Tortilla Pizza Recipe   \n",
       "1      Thakkali Gotsu Recipe | Thakkali Curry | Spicy & Tangy Tomato Gravy   \n",
       "2                                     Spicy Grilled Pineapple Salsa Recipe   \n",
       "3                           Karwar Style Dali Thoy Recipe - Toor dal Curry   \n",
       "4                          Rajma Kofta In Milk And Poppy Seed Gravy Recipe   \n",
       "...                                                                    ...   \n",
       "8004                                      Zucchini and Carrot Pasta Recipe   \n",
       "8005          Hyderabadi Khatti Dal Recipe (Hyderabadi Tangy Lentil Curry)   \n",
       "8006       Karwar Style Muga Ambat Recipe (Moong Sprouts in Coconut Curry)   \n",
       "8007   Beetroot, Amla And Pudina Juice Recipe | Mint Gooseberry Beet Juice   \n",
       "8008  Chettinad Cauliflower Pepper Fry Recipe - Chettinad Poo Kosu Poriyal   \n",
       "\n",
       "                                                                                                  url  \\\n",
       "0                  https://www.archanaskitchen.com/roasted-peppers-and-mushroom-tortilla-pizza-recipe   \n",
       "1                        https://www.archanaskitchen.com/tomato-gotsu-recipe-spicy-tangy-tomato-gravy   \n",
       "2                                https://www.archanaskitchen.com/spicy-grilled-pineapple-salsa-recipe   \n",
       "3                        https://www.archanaskitchen.com/dali-thoy-recipe-karwar-style-toor-dal-curry   \n",
       "4                     https://www.archanaskitchen.com/rajma-kofta-in-milk-and-poppy-seed-gravy-recipe   \n",
       "...                                                                                               ...   \n",
       "8004                                 https://www.archanaskitchen.com/zucchini-and-carrot-pasta-recipe   \n",
       "8005       https://www.archanaskitchen.com/hyderabadi-khatti-dal-recipe-hyderabadi-tangy-lentil-curry   \n",
       "8006                                   https://www.archanaskitchen.com/karwar-style-muga-ambat-recipe   \n",
       "8007                            https://www.archanaskitchen.com/beetroot-amla-and-pudina-juice-recipe   \n",
       "8008  https://www.archanaskitchen.com/chettinad-cauliflower-pepper-fry-recipe-milagu-pirattal-poriyal   \n",
       "\n",
       "     record_health  vote_count    rating  \\\n",
       "0             good         434  4.791120   \n",
       "1             good        3423  4.658654   \n",
       "2             good        2091  4.727832   \n",
       "3             good         990  4.440409   \n",
       "4             good         345  4.138716   \n",
       "...            ...         ...       ...   \n",
       "8004          good         738  4.672434   \n",
       "8005          good        5173  4.512237   \n",
       "8006          good        1202  4.731843   \n",
       "8007          good        1305  4.625653   \n",
       "8008          good        2167  4.070361   \n",
       "\n",
       "                                                                                                                                                                                                                                                                                                                                                                                                                                                                                                                                                                                                                                                                                                                                                                                                                               description  \\\n",
       "0                                                                                                  Tortilla Pizza is a quicker version pizza to satisfy your cravings. It is a very quick and easy recipe for days that you do not feel like cooking a full fledged meal. With the preference of toppings of your choice this pizza recipe is definitely a winner at any home. The toppings used in this Roasted Peppers And Mushroom Tortilla Pizza has some roasted peppers, mushroom with loaded cheese and marinara sauce. Enjoy this easy recipe with your favorite toppings. This is a great recipe, if you are looking for an Indian/Fusion Pizza or a Homemade Pizza recipe. Serve Roasted Peppers And Mushroom Tortilla Pizza along with One Pot Tex-Mex Penne Pasta and Fennel Infused Mango Sorbet for a weekend night dinner.    \n",
       "1                                                                                                                                                                                                                                                                                                                    Tomato Gotsu Recipe also known as the Thakkali Curry is a quick and easy to make, spicy and tangy tomato gravy you can prepare for a change as a breakfast accompaniment or even as a side dish along with Ven Pongal, Khichdi, Paratha or Dosa. Tomato Gotsu that is packed with simple flavours from roasted baby onions simmered along with tamarind and sambar powder giving it that delectable taste. Serve Tomato Gotsu / Thakkali Curry Recipe with Ven Pongal and  South Indian Filter Coffee for breakfast.    \n",
       "2                                                                                                                              Spicy Grilled Pineapple Salsa is a simple recipe of a tropical salsa and is bursting with sweet and spicy flavors. It's the perfect summer dish, best served cold. Grilled Pineapple Salsa can be enjoyed on its own or it can be filled in the tacos along with chili beans and sour cream. Spicy Grilled Pineapple Salsa can be a great appetizer for the barbecue party as well along with some nachos. Serve Spicy Grilled Pineapple Salsa along Baked Corn & Flour Tortilla Chips Flavored With Paprika Recipe as an appetizer along with a meal of Mexican Vegetarian Bean & Cheese Enchiladas Recipe and Fig Tiramisu With Gingerbread Dust Recipe for dessert. Other recipes that you can try are:    \n",
       "3                                                                                                                                                                                                                                                                                                                                                                                                                  The Karwar Style Dali Thoy Recipe (Toor dal Curry) is a quintessential of Konkani dish which is popular among Mangaloreans from Kongunadu. It is a spiced toor dal stew dish which is a simple dish. When you crave for something very light, comforting yet delicious you can rely on this simple curry. Serve the Karwar Style Dali Thoy Recipe (Toor dal Curry) with steamed rice to make a simple satisfying meal.    \n",
       "4     Koftas are traditional Indian recipes mostly well done by the vegetarians. A peculiar variation is the key for making interesting koftas and this Rajma Kofta In Milk And Poppy Seed Gravy Recipe uses cooked rajma paste instead of regular besan, lentils etc as the basic ingredient to make the yummy kofta balls for shallow frying in paniyaram pan. Once fried those can be served as an appetizer but I have cooked a special gravy with milk and poppy seeds paste to make this recipe a delightful vegetarian side dish which can be served with various flatbreads or rice recipes. Serve Rajma Kofta In Milk And Poppy Seed Gravy Recipe along with Saffron Pilaf Recipe (Kesar Pulao) and Pudina Tawa Paratha Recipe for lunch or dinner with Green Moong Sprout Salad With Capsicum And Carrots to complete the meal.    \n",
       "...                                                                                                                                                                                                                                                                                                                                                                                                                                                                                                                                                                                                                                                                                                                                                                                                                                    ...   \n",
       "8004                                                                                                                                                                                                                                                                                                                                                                                 Zucchini And Carrot Pasta Recipe is a healthy recipe which can be served over for dinner. Zucchini helps in lowering the cholesterol levels, weight management, prevent cancer etc. and carrot is the finest source of vitamins & minerals. The combination of Zucchini and carrot makes the dish healthy and ample amount of nutrition is available in this dish. You can serve Zucchini And Carrot Pasta with a slice of garlic bread on the side.    \n",
       "8005                                                                                                   Hyderabadi Khatti Dal is a delicious tangy dal preparation tempered with curry leaves, mustard seeds, cumin, dry red chilies and garlic having balanced flavour of sourness and spiciness. Hyderabadi khatti dal couples up beautifully with steamed rice, pickle, side with any dry veggie preparation. Although we have used Toor dal, you can use even Masoor dal (red lentils) for making this Khatti dal. Traditionally for sourness, tamarind pulp is used but you can substitute it with lemon juice too. But, the sourness that elevates this dal's flavour is best with tamarind making it the best khatti dal ever. Serve the Hyderabadi Khatti Dal along with Steamed Rice, Kathirikai Roast (brinjal roast) and papad.    \n",
       "8006                                                     Karwar Style Muga Ambat Recipe (Moong Sprouts in Coconut Curry) is a curry recipe made from 'Muga' - which refers to the green gram which is mostly sprouted and used in recipes.The sprouted green gram is full of nutrients and is rich in fiber. Even during special occasions like marriages, the green gram curry is served as a side dish to be enjoyed along with rice. Karwar, is a small town near Goa, and boasts of it's unique and distinct cuisine. As it is a coastal town, lots of coconuts and tropical fruits are used as main ingredients in this Karwari Cuisine. Serve Karwar Style Muga Ambat Recipe (Moong Sprouts in Coconut Curry)  and enjoy the deliciousness of Karwar Cuisine. Serve Karwar Style Muga Ambat with Steamed rice or poori and poriyal.    \n",
       "8007                                                                                                                                                                                                                                                                                                                                                                                                                          Beetroot, Amla And Pudina Juice is a healthy juice recipe which acts as a great immunity booster and aids in digestion as well. This juice is also a home remedy for anemia since it boosts hemoglobin content in the blood. Serve Beetroot, Amla And Pudina Juice recipe as a refreshing immunity boosting drink any time of the day. This juice can also be served on empty stomach in the early morning.    \n",
       "8008                                                                                                                                                                                                                                                                                                                               Chettinad Poo Kosu Poriyal also known as Chettinad Milagu Pirattal Poriyal is a classic dish from Chettinad (Tamil Nadu). Chettinad Cuisine is very popular for its recipes to use, small onions, black pepper and lots of spices. The addition of black pepper in this cauliflower recipe along with sauteed onions, brings out great taste. Serve the Chettinad Cauliflower Pepper Fry / Milagu Pirattal Poriyal along with Vendakkai Sambar and Steamed Rice for weekend lunch or weeknight dinner.    \n",
       "\n",
       "                   cuisine     course                     diet  prep_time  \\\n",
       "0                  Mexican     Dinner               Vegetarian         15   \n",
       "1     South Indian Recipes      Lunch               Vegetarian         10   \n",
       "2                  Mexican  Side Dish               Vegetarian         10   \n",
       "3        Coastal Karnataka  Side Dish  High Protein Vegetarian          5   \n",
       "4     North Indian Recipes  Side Dish  High Protein Vegetarian         20   \n",
       "...                    ...        ...                      ...        ...   \n",
       "8004       Italian Recipes     Dinner               Vegetarian         10   \n",
       "8005            Hyderabadi      Lunch  High Protein Vegetarian         20   \n",
       "8006             Karnataka  Side Dish  High Protein Vegetarian         10   \n",
       "8007                Indian      Snack               Vegetarian         10   \n",
       "8008            Tamil Nadu      Lunch               Vegetarian         15   \n",
       "\n",
       "      cook_time  \\\n",
       "0            15   \n",
       "1            20   \n",
       "2             0   \n",
       "3            20   \n",
       "4            30   \n",
       "...         ...   \n",
       "8004         30   \n",
       "8005         40   \n",
       "8006         15   \n",
       "8007          0   \n",
       "8008         20   \n",
       "\n",
       "                                                                                                                                                                                                                                                                                                                                                                                                                                                          ingredients  \\\n",
       "0                                                                                                                                                                                                              b'\\xd0h{\\x89\\x02\\x00\\x00\\x00 i{\\x89\\x02\\x00\\x00\\x000\\x80\\xd0\\x89\\x02\\x00\\x00\\x00pi{\\x89\\x02\\x00\\x00\\x00\\x90\\x80\\xd0\\x89\\x02\\x00\\x00\\x000[n\\x89\\x02\\x00\\x00\\x00\\xc0i{\\x89\\x02\\x00\\x00\\x00\\xf0\\x80\\xd0\\x89\\x02\\x00\\x00\\x00P\\x81\\xd0\\x89\\x02\\x00\\x00\\x00'   \n",
       "1                                                                                                                                        b'\\xb0\\x81\\xd0\\x89\\x02\\x00\\x00\\x00\\x10\\x82\\xd0\\x89\\x02\\x00\\x00\\x00p\\x82\\xd0\\x89\\x02\\x00\\x00\\x00\\xd0\\x82\\xd0\\x89\\x02\\x00\\x00\\x000\\x83\\xd0\\x89\\x02\\x00\\x00\\x00pdd\\x88\\x02\\x00\\x00\\x00\\x90\\x83\\xd0\\x89\\x02\\x00\\x00\\x00\\x10j{\\x89\\x02\\x00\\x00\\x00\\xf0\\x83\\xd0\\x89\\x02\\x00\\x00\\x000Pd\\x88\\x02\\x00\\x00\\x00`j{\\x89\\x02\\x00\\x00\\x00'   \n",
       "2                                                                                                                                                                        b'P\\x84\\xd0\\x89\\x02\\x00\\x00\\x00\\xb0\\x84\\xd0\\x89\\x02\\x00\\x00\\x00\\x10\\x85\\xd0\\x89\\x02\\x00\\x00\\x00\\xb0[n\\x89\\x02\\x00\\x00\\x00p\\x85\\xd0\\x89\\x02\\x00\\x00\\x00\\xd0,j\\x89\\x02\\x00\\x00\\x00\\xd0\\x85\\xd0\\x89\\x02\\x00\\x00\\x00pqd\\x88\\x02\\x00\\x00\\x00\\xb0j{\\x89\\x02\\x00\\x00\\x00\\x00k{\\x89\\x02\\x00\\x00\\x00'   \n",
       "3                                                                                                                                                                                                           b'0\\x86\\xd0\\x89\\x02\\x00\\x00\\x00\\xf0\\x83\\xd0\\x89\\x02\\x00\\x00\\x000ed\\x88\\x02\\x00\\x00\\x00Pk{\\x89\\x02\\x00\\x00\\x00\\xa0k{\\x89\\x02\\x00\\x00\\x00\\x90\\x86\\xd0\\x89\\x02\\x00\\x00\\x00\\xf0k{\\x89\\x02\\x00\\x00\\x00@l{\\x89\\x02\\x00\\x00\\x00\\xf0\\x86\\xd0\\x89\\x02\\x00\\x00\\x00'   \n",
       "4               b'P\\x87\\xd0\\x89\\x02\\x00\\x00\\x00\\x90l{\\x89\\x02\\x00\\x00\\x00\\xe0l{\\x89\\x02\\x00\\x00\\x000m{\\x89\\x02\\x00\\x00\\x00\\xb0\\x87\\xd0\\x89\\x02\\x00\\x00\\x00\\x10\\x88\\xd0\\x89\\x02\\x00\\x00\\x00\\x80m{\\x89\\x02\\x00\\x00\\x00p\\x88\\xd0\\x89\\x02\\x00\\x00\\x00\\xd0m{\\x89\\x02\\x00\\x00\\x00\\xd0\\x88\\xd0\\x89\\x02\\x00\\x00\\x00 n{\\x89\\x02\\x00\\x00\\x000Id\\x88\\x02\\x00\\x00\\x000\\x89\\xd0\\x89\\x02\\x00\\x00\\x00pn{\\x89\\x02\\x00\\x00\\x000ed\\x88\\x02\\x00\\x00\\x00\\x90\\x89\\xd0\\x89\\x02\\x00\\x00\\x00'   \n",
       "...                                                                                                                                                                                                                                                                                                                                                                                                                                                               ...   \n",
       "8004                                                                                            b'0\\x1c\\xf6\\x89\\x02\\x00\\x00\\x00\\xb0\\x8c\\xf7\\x89\\x02\\x00\\x00\\x00\\x00\\x8d\\xf7\\x89\\x02\\x00\\x00\\x00\\xb0\\xf7\\xe3\\x89\\x02\\x00\\x00\\x00p,\\xf7\\x89\\x02\\x00\\x00\\x00P\\xc3\\xd0\\x89\\x02\\x00\\x00\\x00\\x10L\\xd1\\x89\\x02\\x00\\x00\\x000\\xe3\\xdb\\x89\\x02\\x00\\x00\\x00\\x10\\xcc\\xd0\\x89\\x02\\x00\\x00\\x00pqd\\x88\\x02\\x00\\x00\\x000\\xcc\\xd1\\x89\\x02\\x00\\x00\\x00\\x90\\xa7\\xd2\\x89\\x02\\x00\\x00\\x00'   \n",
       "8005  b'0\\x86\\xd0\\x89\\x02\\x00\\x00\\x00`\\xc2\\xd0\\x89\\x02\\x00\\x00\\x00\\xf0\\x83\\xd0\\x89\\x02\\x00\\x00\\x00\\xb0\\xc2\\xd0\\x89\\x02\\x00\\x00\\x00\\xe0\\xb6\\xdd\\x89\\x02\\x00\\x00\\x00\\xf0R\\xd1\\x89\\x02\\x00\\x00\\x00\\xd0,\\xf7\\x89\\x02\\x00\\x00\\x00P\\x8d\\xf7\\x89\\x02\\x00\\x00\\x00pRd\\x88\\x02\\x00\\x00\\x00\\x90\\x86\\xd0\\x89\\x02\\x00\\x00\\x00\\x80\\xc0\\xd0\\x89\\x02\\x00\\x00\\x00\\xa0\\xd2\\xd0\\x89\\x02\\x00\\x00\\x00@l{\\x89\\x02\\x00\\x00\\x00\\x109\\xe6\\x89\\x02\\x00\\x00\\x00\\xf0\\x86\\xd0\\x89\\x02\\x00\\x00\\x00'   \n",
       "8006                                                                                              b'\\xd0\\n\\xd2\\x89\\x02\\x00\\x00\\x00\\xe0\\xce\\xd0\\x89\\x02\\x00\\x00\\x000\\x9e\\xd0\\x89\\x02\\x00\\x00\\x00\\x90\\xa7\\xd2\\x89\\x02\\x00\\x00\\x000ed\\x88\\x02\\x00\\x00\\x00\\xa0\\xeb\\xd0\\x89\\x02\\x00\\x00\\x00\\xa0\\xd2\\xd0\\x89\\x02\\x00\\x00\\x000\\xad\\xd0\\x89\\x02\\x00\\x00\\x00pRd\\x88\\x02\\x00\\x00\\x00\\x90\\x86\\xd0\\x89\\x02\\x00\\x00\\x00 P\\xd1\\x89\\x02\\x00\\x00\\x00\\xa0\\x8d\\xf7\\x89\\x02\\x00\\x00\\x00'   \n",
       "8007                                                                                                                                                                                                                                                b'\\xf0\\x8d\\xf7\\x89\\x02\\x00\\x00\\x000-\\xf7\\x89\\x02\\x00\\x00\\x00p\\xce\\xd6\\x89\\x02\\x00\\x00\\x00@\\x8e\\xf7\\x89\\x02\\x00\\x00\\x00p\\x91\\xd0\\x89\\x02\\x00\\x00\\x00\\xf0\\x9e\\xd0\\x89\\x02\\x00\\x00\\x00\\x10V\\xf7\\x89\\x02\\x00\\x00\\x00'   \n",
       "8008                                     b'\\x10\\xef\\xd1\\x89\\x02\\x00\\x00\\x00\\xb0\\xcd\\xd6\\x89\\x02\\x00\\x00\\x00\\xa0z{\\x89\\x02\\x00\\x00\\x00\\xf0\\x83\\xd0\\x89\\x02\\x00\\x00\\x00\\x90q{\\x89\\x02\\x00\\x00\\x00\\xb0\\xc2\\xd0\\x89\\x02\\x00\\x00\\x00\\xb0:\\xd1\\x89\\x02\\x00\\x00\\x00\\xb0o{\\x89\\x02\\x00\\x00\\x000@\\xd2\\x89\\x02\\x00\\x00\\x00\\x00\\xf5\\xd0\\x89\\x02\\x00\\x00\\x00\\x10\\x82\\xd0\\x89\\x02\\x00\\x00\\x00p\\x97\\xd0\\x89\\x02\\x00\\x00\\x00\\x00p{\\x89\\x02\\x00\\x00\\x00`\\x16\\xd4\\x89\\x02\\x00\\x00\\x00'   \n",
       "\n",
       "                                                                                                                                                                                                                                                                                                                                                                                                                                                                                                                                                                                                                                                                                                                                                                                                                                                                                                                                                                                                                                                                                                                                                                                                                                                                                                                                                                                                                                                                                                                                 instructions  \\\n",
       "0                                                                                                                                                                                                                                                                                                                                                                                                                                                                                                                                                                                      [To begin making the Roasted Peppers And Mushroom Tortilla Pizza recipe, turn your oven setting to broiler and keep it ready., Grease your cast iron skillet with some olive oil and heat it over high heat., When it starts to shimmer bring down the heat to medium. Add olive oil and minced garlic to the marinara sauce and stir to combine, keep aside., Place one tortilla on the cast iron skillet. Spread a thin layer of marinara sauce over the tortilla., Spread the cheese as needed. When the cheese starts to melt, add in the toppings which includes onion, mushrooms, olives and bell peppers., Now shift the cast iron skillet to the oven which is already under broiler setting., When you see the cheese all melted and top starting to brown, remove and slice to serve., Serve Roasted Peppers And Mushroom Tortilla Pizza along with One Pot Tex-Mex Penne Pasta and Fennel Infused Mango Sorbet for a weekend night dinner.]   \n",
       "1                                                                                                                                                                                                                                                                                                                                                   [To begin making Tomato Gotsu Recipe/ Thakkali Curry Recipe, prepare all the ingredients and keep them ready., Soak the tamarind in hot water for 20 minutes. Extract the water from the tamarind to get about 1/2 cup of thick tamarind., Roughly chop the tomatoes and pulse the chopped tomatoes in a mixer grinder. You want a chunky sauce and not a fine puree. This will help add texture to the Tomato Gotsu., Heat oil in a pressure cooker on medium heat, add the mustard seeds and allow it to crackle. Add the curry leaves, garlic and onions and saute until the onions turn tender and translucent., Now, add the crushed  tomatoes, tamarind water, turmeric powder, sambar powder,  salt and jaggery. Stir the Tomato Gotsu and pressure cook for 2 whistles., Turn off the heat and allow the pressure to release naturally. Once the pressure releases, open the cooker and give the Tomato Gotsu/ Thakkali Curry a stir., Check the salt and spices and adjust to taste accordingly. Transfer the Tomato Gotsu/ Thakkali Curry to a serving bowl and serve hot., Serve Tomato Gotsu / Thakkali Curry with Ven Pongal and  South Indian Filter Coffee for breakfast.]   \n",
       "2                                                                                                                                                                                                                                                                                                                                                                                                                                                                                                             [To begin making the Spicy Grilled Pineapple Salsa Recipe, start by prepping all the ingredients and fine chopping the elements., Heat oil in a grill pan over medium heat; place the sliced pineapple and sprinkle with salt. Cover the pan and cook the pineapple until it's soft and has lightly grilled texture. Keep turning it around until golden brown on both sides., Once done, allow it to cool and finely chop the pineapple., In a large mixing bowl, combine the grilled pineapple, onions, jalapenos, bell peppers, coriander leaves and mint leaves. Give it a good mix., Finally toss in the salt, lemon juice and smoked paprika to make the Grilled Pineapple Salsa., Refrigerate the Grilled Pineapple Salsa for at least 2 hours and serve chilled, Serve Spicy Grilled Pineapple Salsa along Baked Corn & Flour Tortilla Chips Flavored With Paprika  as an appetizer along with a meal of Mexican Vegetarian Bean & Cheese Enchiladas Recipe and Fig Tiramisu With Gingerbread Dust Recipe for dessert.]   \n",
       "3                                                                                                                                                                                                                                                                                                                                                                                                                                                                                                                                                                                                                                                                                                                                                                                                                                                                                         [To prepare Karwar Style Dali Thoy Recipe (Toor dal Curry), rinse toor dal in water and then pressure cook with 1 cup water and turmeric powder for about 2 whistles., turn off the flame an allow the pressure to release naturally., In a pan heat ghee on medium flame. Add mustard seeds and let it splutter., Then add dried red chilies, hing, and curry leaves. Saute till curry leaves splutter and turn off the heat., Mash the cooked dal well, add salt to taste. Add the tempering and fresh coriander leaves. Mix well., Serve the Karwar Style Dali Thoy Recipe (Toor dal Curry) with steamed rice to make a simple satisfying meal.]   \n",
       "4     [To begin making Rajma Kofta In Milk And Poppy Seed Gravy Recipe, prepare the koftas first. Remember to first soak the rajma overnight and pressure cook with salt until the rajma is cooked and softened., Blend the boiled rajma, besan, cashew, raisins, chilli powder, hing, coriander leaves and salt in a food processor. Check for seasoning and adjust. Spread this mashed spiced rajma on a thali or a large plate. Make small round balls of rajma kofta with your palm., Heat a frying pan with half ghee and fry the kofta balls for about 10 minutes. Set aside., What you can also do is, heat a kuzhi paniyaram pan, drop in a few drops of oil into each cavity and put in these balls into each cavity. Once browned on the bottom, you can rotate the kofta balls and brown them evenly from the other side as well. This is a healthier way to prepare koftas instead of deep frying them in traditional way., Take a kadai and heat ghee, add cumin and allow to sizzle., Once sizzling, add in milk, cream, poppy seed paste and garam masala powder. Add salt and stir. Add water only if needed., Cook till the mixture comes to one boil and add the koftas and Switch off heat after half a minute. Serve with your favourite garnish like saffron or coriander leaves., Serve Rajma Kofta In Milk And Poppy Seed Gravy Recipe along with Saffron Pilaf Recipe (Kesar Pulao) and Pudina Tawa Paratha Recipe for lunch or dinner with Green Moong Sprout Salad With Capsicum And Carrots to complete the meal.]   \n",
       "...                                                                                                                                                                                                                                                                                                                                                                                                                                                                                                                                                                                                                                                                                                                                                                                                                                                                                                                                                                                                                                                                                                                                                                                                                                                                                                                                                                                                                                                                                                                                       ...   \n",
       "8004                                                                                                                                                                                                                                                                                                                                                                                                                                                                                                                                                                                                                                                                                                                                                                        [To begin with Zucchini And Carrot Pasta Recipe, heat oil in a pan and add onions and sauté it till it turns golden., Add chopped tomatoes, salt, dried oregano, dried basil, black pepper powder and mix well. Let the tomatoes cook until they become pasty., Now add sugar and mix it. Your Tomato sauce is ready. Keep it aside., Heat 1 tablespoon oil in another pan. Add zucchini, carrot, salt, green chilies and mix well., Add boiled pasta, mix well and sauté it for 2-3 mins., Now add the prepared tomato sauce on top of the pasta and give it a stir., Your Zucchini And Carrot Pasta Recipe is ready to be served you can great some Parmesan chesse on top., You can serve Zucchini And Carrot Pasta with a slice of garlic bread on the side.]   \n",
       "8005                                                                                                          [To begin making the Hyderabadi Khatti Dal Recipe, first clean and wash the dal well under running water., In a pressure cooker, add washed dal, garlic, ginger, turmeric, red chili powder, green chili, tomatoes salt and 2 cups of water. Cover the pressure cooker and cook until you hear a couple of whistles. After a couple of whistles, turn the heat to low and cook for 3 minutes approximately and turn off the heat., Allow the pressure in the cooker release naturally. Once the pressure has released, open the cooker., When the dal is done, whisk the dal well to make it smooth. Add tamarind water to the dal and bring the Khatti dal to a brisk boil. Once it comes to a boil, turn the heat to low and set the dal to simmer., Next we will prepare the seasoning., In a small tadka pan heat oil in medium heat.  Add the mustard seeds, cumin seeds and allow it to crackle. Once it Add garlic and fry until it starts getting golden brown.  Add curry leaves and red chilies, fry for another few seconds., Pour the tadka over the dal and simmer for 4 to 5 minutes. Once done, turn off the heat and the Hyderabadi Khatti Dal recipe is ready. Check the salt and adjust to suit your taste. Pour the dal into a serving bowl and garnish with chopped coriander leaves and serve warm., Serve the Hyderabadi Khatti Dal along with Steamed Rice, Kathirikai Roast (brinjal roast) and papad.]   \n",
       "8006                                                                                                                                                                                                                                                                                                                                                                                                                                                                  [To prepare Karwar Style Muga Ambat Recipe (Moong Sprouts in Coconut Curry), remove the skin of the green gram/moong sprouts by soaking them in water for 20 minutes and then rubbing off with hands., One the moong sprouts are ready, heat a kadai/wok with oil and temper with mustard and curry leaves., Add the onions, sugar and a pinch of salt and keep stirring over low heat till the onions turn brown., Now add the sprouted green gram, tamarind pulp, turmeric powder and mix well and cook them covered over low flame for 5 minutes., Open the lid and add 1 cup of water to the mixture., In a mixer grinder, combine the coconut along with the coriander seeds, salt and red chillies and grind  this along with some water to make a thick coconut paste., Adjust salt and stir in the thick coconut paste into the curry., Mix Muga Ambat well and allow them to cook for another 3-4 minutes and switch off., Serve Karwar Style Muga Ambat (Moong Sprouts in Coconut Curry) with Steamed rice or poori and poriyal to enjoy your everyday meal.]   \n",
       "8007                                                                                                                                                                                                                                                                                                                                                                                                                                                                                                                                                                                                                                                                                                                                                            [To begin making the  Beetroot, Amla And Pudina Juice Recipe, wash and cut all the ingredients and keep them ready., In a mixer jar, combine the beetroot, amla, mint leaves, cucumber, black salt, black pepper powder and roasted jeera powder., To this add 1/2 cup of water and a few ice cubes, grind until the veggies are fully pureed. Once well blended you add additionally add another 1/2 cup of water and ice cubes and blend again to make the juice a little thinner., Once blended give it a taste and add honey if required to sweeten the Beetroot, Amla And Pudina Juice., Serve Beetroot, Amla And Pudina Juice recipe as a refreshing immunity boosting drink any time of the day. This juice can also be served on empty stomach in the early morning.]   \n",
       "8008                                                                                             [To begin making the Chettinad Cauliflower Pepper Fry Recipe (Milagu Pirattal Poriyal), first get all the ingredient ready and keep it by the side. It always helps to have things ready so the cooking process can be faster and quicker., We will steam the cauliflower in the steamer until it is firm and yet cooked. Steaming, retains the nutrition of the vegetable and helps the cooking process of the Chettinad Cauliflower Pepper Fry Recipe faster. This should not take more than 3 to 4 minutes on high heat., Heat a tablespoon of oil in heavy bottomed pan or a kadai on medium heat. Add the mustard seeds and allow it to crackle. Add the chopped onion and garlic and saute on low to medium heat until the onions have turned lightly golden brown., Take care not to burn the onion and garlic. Next add the curry leaves, cloves, turmeric powder, red chilli powder, black pepper, cinnamon and coriander powder. Give it a stir and add the steamed cauliflower florets., Sprinkle some salt and stir all the ingredients carefully until the spices coat the cauliflower well., Turn the heat to low, cover the pan and simmer for about 3 to 4 minutes until the Chettinad Cauliflower is well coated with the masala. Check the salt and spices and adjust to suit your taste., Serve the Chettinad Cauliflower Pepper Fry along with Vendakkai Sambar and Steamed Rice for weekend lunch or weeknight dinner.]   \n",
       "\n",
       "                   author  \\\n",
       "0       Divya Shivaraman    \n",
       "1           Archana Doshi   \n",
       "2       Archana's Kitchen   \n",
       "3           Jyothi Rajesh   \n",
       "4             RUBY PATHAK   \n",
       "...                   ...   \n",
       "8004         Aarti Sharma   \n",
       "8005  Farrukh Aziz Ansari   \n",
       "8006    Archana's Kitchen   \n",
       "8007    Archana's Kitchen   \n",
       "8008        Archana Doshi   \n",
       "\n",
       "                                                                                                                                     tags  \\\n",
       "0                        [Party Food Recipes, Tea Party Recipes, Mushroom Recipes, Fusion Recipes, Tortilla Recipe, Bell Peppers Recipes]   \n",
       "1                                                      [Vegetarian Recipes, Tomato Recipes, South Indian Recipes, Breakfast Recipe Ideas]   \n",
       "2                                                                   [Party Starter & Appetizer Recipes, Pineapple Recipes, Salsa Recipes]   \n",
       "3               [Side Dish Recipes, South Indian Recipes, Indian Lunch Recipes, Indian Vegetarian Recipes, Toor Dal Recipes (Pigeon Pea)]   \n",
       "4                     [Side Dish Recipes, Indian Lunch Recipes, Office Lunch Box Recipes, Rajma Kidney Bean Recipes, Poppy Seeds Recipes]   \n",
       "...                                                                                                                                   ...   \n",
       "8004                                             [Vegetarian Recipes, Carrot Recipes, Zucchini Recipes, Mother's Day Recipe Contest 2016]   \n",
       "8005                                                                                       [Gluten Free Recipes, Indian Diabetic Recipes]   \n",
       "8006  [High Protein Vegetarian Diet Recipes, South Indian Recipes, Healthy Recipes, Sprout Recipes, Coconut Milk Recipes, karwar Recipes]   \n",
       "8007                                                 [Healthy Recipes, Beetroot Recipes, Pudina Mint Recipes, Amla Recipes  (Gooseberry)]   \n",
       "8008                                                                                                   [Cauliflower Recipes (Phool Gobi)]   \n",
       "\n",
       "                                  category  \\\n",
       "0                            Pizza Recipes   \n",
       "1                     Indian Curry Recipes   \n",
       "2                          Mexican Recipes   \n",
       "3                     Indian Curry Recipes   \n",
       "4                            Kofta Recipes   \n",
       "...                                    ...   \n",
       "8004                         Pasta Recipes   \n",
       "8005                  Indian Curry Recipes   \n",
       "8006                  Indian Curry Recipes   \n",
       "8007                  Indian Drink Recipes   \n",
       "8008  Poriyal Recipes (South Indian Sabzi)   \n",
       "\n",
       "                                                                                                                                                                   image  \\\n",
       "0                                       https://www.archanaskitchen.com/images/archanaskitchen/1-Author/divya_shivaraman/Roasted_peppers_and_Mushroom_Tortilla_Pizza.jpg   \n",
       "1                                                    https://www.archanaskitchen.com/images/archanaskitchen/0-Archanas-Kitchen-Recipes/2020/Tomato_Gotsu_recipe_1600.jpg   \n",
       "2                                            https://www.archanaskitchen.com/images/archanaskitchen/1-Author/Richa_Gupta/Spicy_Grilled_Pineapple_Salsa_Recipe_1_1600.jpg   \n",
       "3                                                            https://www.archanaskitchen.com/images/archanaskitchen/1-Author/jyothir/Dali_Thoy_Karwar_Toor_dal_Curry.jpg   \n",
       "4                                     https://www.archanaskitchen.com/images/archanaskitchen/1-Author/ruby_pathak-yahoo.com/Rajma_Kofta_in_Milk_and_Poppy_Seed_Gravy.jpg   \n",
       "...                                                                                                                                                                  ...   \n",
       "8004                                                          https://www.archanaskitchen.com/images/archanaskitchen/1-Author/Aarti_Sharma/Zucchini_and_Carrot_Pasta.jpg   \n",
       "8005                                                       https://www.archanaskitchen.com/images/archanaskitchen/1-Author/Farrukh_Aziz_Ansari/Hyderabadi_Khatti_Dal.jpg   \n",
       "8006  https://www.archanaskitchen.com/images/archanaskitchen/0-Archanas-Kitchen-Recipes/2017/4-may/Karwar_Style_Muga_Ambat_Recipe_green_moong_lentil_coocnut_curry-1.jpg   \n",
       "8007                              https://www.archanaskitchen.com/images/archanaskitchen/1-Author/sunshineswati08-gmail.com/Beetroot_Amla_Pudina_Juice_Recipe_1_1600.jpg   \n",
       "8008                       https://www.archanaskitchen.com/images/archanaskitchen/Indian_Vegetables_Dry/Chettinad_Cauliflower_Curry_Milagu_Pirattal_Poriyal_Recipe-9.jpg   \n",
       "\n",
       "     difficulty  total_time  \n",
       "0          Easy          30  \n",
       "1          Easy          30  \n",
       "2          Easy          10  \n",
       "3          Easy          25  \n",
       "4      Moderate          50  \n",
       "...         ...         ...  \n",
       "8004       Easy          40  \n",
       "8005   Moderate          60  \n",
       "8006       Easy          25  \n",
       "8007       Easy          10  \n",
       "8008   Moderate          35  \n",
       "\n",
       "[7685 rows x 19 columns]"
      ]
     },
     "execution_count": 34,
     "metadata": {},
     "output_type": "execute_result"
    }
   ],
   "source": [
    "all_recipes"
   ]
  },
  {
   "cell_type": "code",
   "execution_count": null,
   "id": "3bad2e0d-41ec-42aa-9aac-a4b3d2ce38ee",
   "metadata": {},
   "outputs": [],
   "source": []
  },
  {
   "cell_type": "code",
   "execution_count": null,
   "id": "97bf6b5f-78dc-48a4-a01a-99c08e08157b",
   "metadata": {},
   "outputs": [],
   "source": []
  }
 ],
 "metadata": {
  "kernelspec": {
   "display_name": "Python 3 (ipykernel)",
   "language": "python",
   "name": "python3"
  },
  "language_info": {
   "codemirror_mode": {
    "name": "ipython",
    "version": 3
   },
   "file_extension": ".py",
   "mimetype": "text/x-python",
   "name": "python",
   "nbconvert_exporter": "python",
   "pygments_lexer": "ipython3",
   "version": "3.10.10"
  }
 },
 "nbformat": 4,
 "nbformat_minor": 5
}
