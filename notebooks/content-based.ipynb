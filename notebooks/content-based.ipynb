{
 "cells": [
  {
   "cell_type": "code",
   "execution_count": 1,
   "id": "00b2dda6-d7ac-44a5-b73f-1f20e5277ea5",
   "metadata": {},
   "outputs": [],
   "source": [
    "import pandas as pd\n",
    "import requests\n",
    "from bs4 import BeautifulSoup\n",
    "import random\n",
    "import pyarrow\n",
    "import fastparquet\n",
    "import psycopg2\n",
    "from sqlalchemy import create_engine\n",
    "import pandas as pd\n",
    "from sklearn.feature_extraction.text import TfidfVectorizer\n",
    "from sklearn.feature_extraction.text import CountVectorizer\n",
    "from sklearn.metrics.pairwise import cosine_similarity\n",
    "import ast\n",
    "\n",
    "pd.set_option('display.max_colwidth', None)"
   ]
  },
  {
   "cell_type": "code",
   "execution_count": 2,
   "id": "8a03a9aa-dd01-4945-9496-4845f6fa9e83",
   "metadata": {
    "tags": []
   },
   "outputs": [],
   "source": [
    "recipes = pd.read_parquet('../dataset/recipes-formatted.parquet.gzip')"
   ]
  },
  {
   "cell_type": "code",
   "execution_count": 12,
   "id": "747b2b55-c25c-4ff4-a1d3-6ec85bd32648",
   "metadata": {
    "tags": []
   },
   "outputs": [
    {
     "data": {
      "text/plain": [
       "15"
      ]
     },
     "execution_count": 12,
     "metadata": {},
     "output_type": "execute_result"
    }
   ],
   "source": [
    "recipes.vote_count.min()"
   ]
  },
  {
   "cell_type": "markdown",
   "id": "89095808-45d8-43aa-829d-9b1f04c5ea3c",
   "metadata": {
    "tags": []
   },
   "source": [
    "# tf idf"
   ]
  },
  {
   "cell_type": "code",
   "execution_count": 3,
   "id": "c8d21fdc-d3ac-4901-988a-1c7234f0c3c4",
   "metadata": {
    "tags": []
   },
   "outputs": [],
   "source": [
    "df = pd.read_parquet('../dataset/recipes-formatted.parquet.gzip')\n",
    "df = df[df['description'].notna()]\n",
    "df.reset_index(inplace=True)"
   ]
  },
  {
   "cell_type": "code",
   "execution_count": 4,
   "id": "0d9d38ea-1e06-460c-8b56-38f1a1f635c3",
   "metadata": {
    "tags": []
   },
   "outputs": [],
   "source": [
    "def process_text(text):\n",
    "    # replace multiple spaces with one\n",
    "    text = ' '.join(text.split())\n",
    "    # lowercase\n",
    "    text = text.lower()\n",
    " \n",
    "    return text\n",
    "\n",
    "df['description'] = df.apply(lambda x: process_text(x.description),axis=1)"
   ]
  },
  {
   "cell_type": "code",
   "execution_count": 5,
   "id": "9e9b6df2-6929-4dad-b534-db99ea21009d",
   "metadata": {
    "tags": []
   },
   "outputs": [],
   "source": [
    "tf_idf = TfidfVectorizer(stop_words='english')\n",
    " \n",
    "tf_idf_matrix = tf_idf.fit_transform(df['description']);"
   ]
  },
  {
   "cell_type": "code",
   "execution_count": 6,
   "id": "22feadc5-3db2-461f-8d86-37b4b3a8f744",
   "metadata": {
    "tags": []
   },
   "outputs": [],
   "source": [
    "cosine_similarity_matrix = cosine_similarity(tf_idf_matrix, tf_idf_matrix)"
   ]
  },
  {
   "cell_type": "code",
   "execution_count": null,
   "id": "0f5ec9ca-ee0b-4446-89b2-99b98b3e77b0",
   "metadata": {},
   "outputs": [],
   "source": []
  },
  {
   "cell_type": "code",
   "execution_count": 7,
   "id": "d14d01ae-1665-4c16-b97d-bad8be7eb483",
   "metadata": {
    "tags": []
   },
   "outputs": [],
   "source": [
    "def index_from_title(df,title):\n",
    "    return df[df['recipe_title']==title].index.values[0]\n",
    "\n",
    "\n",
    "# function that returns the title of the movie from its index\n",
    "def title_from_index(df,index):\n",
    "    return df[df.index==index].recipe_title.values[0]\n",
    "\n",
    "\n",
    "# generating recommendations for given title\n",
    "def recommendations(recipe_title, df,cosine_similarity_matrix,number_of_recommendations):\n",
    "    index = index_from_title(df,recipe_title)\n",
    "    similarity_scores = list(enumerate(cosine_similarity_matrix[index]))\n",
    "    similarity_scores_sorted = sorted(similarity_scores, key=lambda x: x[1], reverse=True)\n",
    "    recommendations_indices = [t[0] for t in similarity_scores_sorted[1:(number_of_recommendations+1)]]\n",
    "\n",
    "    return df['recipe_title'].iloc[recommendations_indices]"
   ]
  },
  {
   "cell_type": "code",
   "execution_count": 8,
   "id": "a0c16624-8314-4f02-b3c5-1f7b1a6271a4",
   "metadata": {
    "collapsed": true,
    "jupyter": {
     "outputs_hidden": true
    },
    "tags": []
   },
   "outputs": [
    {
     "data": {
      "text/plain": [
       "151                                                                  Goan Vegetable Curry Recipe\n",
       "42                                          Goan Kaju Curry Recipe (Spicy Goan Cashew Nut Curry)\n",
       "73                                                Goan Moolyacho Ross Recipe (Goan Radish Curry)\n",
       "6715               केरला स्टाइल बैंगन करी रेसिपी - Kerala Style Eggplant Curry (Recipe In Hindi)\n",
       "5933                                                                    Black Forest Cake Recipe\n",
       "3176    Gujarati Badshahi Pulao Recipe - A Rich Preparation Of Rice, Vegetables, Nuts And Spices\n",
       "2627                                                                     Pyaaz Ki Kachori Recipe\n",
       "6176                                                          Homemade Whole Wheat Crepes Recipe\n",
       "4809                               Aloo & Nariyal Ki Kachori Recipe (Pan Fried Farali Aloo Vada)\n",
       "3372                                         Arbi Ke Kebab Recipe (Spicy Colocasia Kebab) Recipe\n",
       "7904                      Andhra Style Munakkada Masala Kura Recipe - Drumstick Dry Curry Recipe\n",
       "7882                                       Spicy Arrabbiata Pasta Recipe With Sun Dried Tomatoes\n",
       "2462                                      Herbed Vegetables In Roasted Bell Pepper Sauce Recipe \n",
       "Name: recipe_title, dtype: object"
      ]
     },
     "execution_count": 8,
     "metadata": {},
     "output_type": "execute_result"
    }
   ],
   "source": [
    "dfkaki = pd.read_parquet('../dataset/recipes-formatted.parquet.gzip')\n",
    "\n",
    "recommendations('Goan Sorak Curry Recipe', dfkaki, cosine_similarity_matrix, 13)"
   ]
  },
  {
   "cell_type": "code",
   "execution_count": null,
   "id": "1fd9205f-7df8-4930-aea4-7f831feaf9a6",
   "metadata": {},
   "outputs": [],
   "source": []
  },
  {
   "cell_type": "code",
   "execution_count": null,
   "id": "35244d60-3778-4d18-bb76-fc8247b72fc9",
   "metadata": {},
   "outputs": [],
   "source": [
    "df"
   ]
  },
  {
   "cell_type": "code",
   "execution_count": null,
   "id": "5512fc42-29e5-4bef-96cf-cdfc9c843d5a",
   "metadata": {},
   "outputs": [],
   "source": []
  },
  {
   "cell_type": "markdown",
   "id": "db3119a3-2345-475c-a8a4-59e9ebb8d9ba",
   "metadata": {},
   "source": [
    "# vectorize"
   ]
  },
  {
   "cell_type": "code",
   "execution_count": 49,
   "id": "fdced048-d610-4a33-ac86-ea8f79c9a4bc",
   "metadata": {
    "tags": []
   },
   "outputs": [],
   "source": [
    "recipes = pd.read_parquet('../dataset/recipes-formatted.parquet.gzip')"
   ]
  },
  {
   "cell_type": "code",
   "execution_count": 50,
   "id": "b4d83a05-23da-4de5-ba90-2082277b3134",
   "metadata": {
    "tags": []
   },
   "outputs": [],
   "source": [
    "df = recipes"
   ]
  },
  {
   "cell_type": "code",
   "execution_count": 51,
   "id": "0024a3f5-8bff-4273-a859-44d3356611d5",
   "metadata": {
    "tags": []
   },
   "outputs": [],
   "source": [
    "def return_values(value):\n",
    "    values = []\n",
    "    if value is not None:\n",
    "        values.append(value.lower().replace(\" \",\"\"))\n",
    "\n",
    "    return ' '.join(values)\n",
    "\n",
    "def return_list_values(value):\n",
    "    values = []\n",
    "    if value is not None:\n",
    "        for item in value:\n",
    "            values.append(item.lower().replace(\" \",\"\"))\n",
    "\n",
    "    return ' '.join(values)\n",
    "\n",
    "df['record_health']=df.apply(lambda x: return_values(x.record_health),axis=1)\n",
    "df['cuisine']=df.apply(lambda x: return_values(x.cuisine),axis=1)\n",
    "df['course']=df.apply(lambda x: return_values(x.course),axis=1)\n",
    "df['diet']=df.apply(lambda x: return_values(x.diet),axis=1)\n",
    "df['prep_time']=df.apply(lambda x: return_values(x.prep_time),axis=1)\n",
    "df['cook_time']=df.apply(lambda x: return_values(x.cook_time),axis=1)\n",
    "df['category']=df.apply(lambda x: return_values(x.category),axis=1)\n",
    "df['tags']=df.apply(lambda x: return_list_values(x.tags),axis=1)\n"
   ]
  },
  {
   "cell_type": "code",
   "execution_count": 53,
   "id": "318c3f35-e413-4325-a5b2-15961b5ada45",
   "metadata": {
    "tags": []
   },
   "outputs": [],
   "source": [
    "w_record_health = 2\n",
    "w_course = 1\n",
    "w_cuisine = 5\n",
    "w_diet = 3\n",
    "w_prep_time = 6\n",
    "w_cook_time = 5\n",
    "w_category = 1\n",
    "w_tags = 3\n",
    "# function for merging features\n",
    " \n",
    "def concatenate_features(df_row):\n",
    "    return ' '.join([df_row['record_health']]*w_record_health) +' ' + \\\n",
    "            ' '.join([df_row['cuisine']]*w_cuisine)+' '+ \\\n",
    "            ' '.join([df_row['course']]*w_course)+' '+ \\\n",
    "            ' '.join([df_row['diet']]*w_diet)+' '+ \\\n",
    "            ' '.join([df_row['prep_time']]*w_prep_time)+' '+ \\\n",
    "            ' '.join([df_row['cook_time']]*w_cook_time)+' '+ \\\n",
    "            ' '.join([df_row['category']]*w_category)+' '+ \\\n",
    "            ' '.join([df_row['tags']]*w_tags)\n"
   ]
  },
  {
   "cell_type": "code",
   "execution_count": 54,
   "id": "b81fbf8d-12d1-495d-939c-2a14cbfa4d42",
   "metadata": {
    "tags": []
   },
   "outputs": [],
   "source": [
    "df['features'] = df.apply(concatenate_features,axis=1)"
   ]
  },
  {
   "cell_type": "code",
   "execution_count": 55,
   "id": "383308be-7162-4a70-afab-5df244216c30",
   "metadata": {
    "tags": []
   },
   "outputs": [],
   "source": [
    "# pre-processing text of features\n",
    "\n",
    "def process_text(text):\n",
    "    # replace multiple spaces with one\n",
    "    text = ' '.join(text.split())\n",
    "    # lowercase\n",
    "    text=text.lower()\n",
    "\n",
    "    return text\n",
    "\n",
    "df['features'] = df.apply(lambda x: process_text(x.features),axis=1)\n"
   ]
  },
  {
   "cell_type": "code",
   "execution_count": 56,
   "id": "3854eb96-3947-4389-81da-71327838c530",
   "metadata": {
    "tags": []
   },
   "outputs": [],
   "source": [
    "vect = CountVectorizer(stop_words='english')\n",
    "\n",
    "vect_matrix = vect.fit_transform(df['features'])\n",
    "\n",
    "cosine_similarity_matrix_count_based = cosine_similarity(vect_matrix, vect_matrix)"
   ]
  },
  {
   "cell_type": "code",
   "execution_count": 57,
   "id": "d220bdca-f8dd-4323-ac0b-a07b71282dcd",
   "metadata": {
    "tags": []
   },
   "outputs": [
    {
     "data": {
      "text/plain": [
       "2500                           Goan Batata Recheado Recipe With Carrots & Beans\n",
       "636                                                 Goan Prawns Vindaloo Recipe\n",
       "2479                                                    Goan Gawar Bhaji Recipe\n",
       "151                                                 Goan Vegetable Curry Recipe\n",
       "6743           गोअन एग ड्राप करी रेसिपी - Goan Egg Drop Curry (Recipe In Hindi)\n",
       "458                    Mushroom Caldine Recipe | Vegetarian Goan Mushroom Curry\n",
       "5576            Doodanche Fov Recipe (Goan Style Milk Beaten Rice/Poha In Milk)\n",
       "6537                     दही वाली भिन्डी रेसिपी - Dahi Bhindi (Recipe In Hindi)\n",
       "6235                                                       Prawn Balchao Recipe\n",
       "6279    The Goan Kelyachyo Fodi Recipe (Spicy & Crispy Pan Fried Banana Recipe)\n",
       "5376                         Goan Style Dhayanche Fov Recipe (Curd Poha Recipe)\n",
       "6653     Goan Style Sando Recipe (Steamed Rice Cakes Filled With Sweet Coconut)\n",
       "7943                                        Goan Style Mushroom Shagoti Recipe \n",
       "Name: recipe_title, dtype: object"
      ]
     },
     "execution_count": 57,
     "metadata": {},
     "output_type": "execute_result"
    }
   ],
   "source": [
    "recommendations('Goan Sorak Curry Recipe', dfkaki, cosine_similarity_matrix_count_based, 13)"
   ]
  },
  {
   "cell_type": "code",
   "execution_count": null,
   "id": "a9260143-ddb6-4e81-b1fb-2747302b4812",
   "metadata": {},
   "outputs": [],
   "source": []
  }
 ],
 "metadata": {
  "kernelspec": {
   "display_name": "Python 3 (ipykernel)",
   "language": "python",
   "name": "python3"
  },
  "language_info": {
   "codemirror_mode": {
    "name": "ipython",
    "version": 3
   },
   "file_extension": ".py",
   "mimetype": "text/x-python",
   "name": "python",
   "nbconvert_exporter": "python",
   "pygments_lexer": "ipython3",
   "version": "3.10.10"
  }
 },
 "nbformat": 4,
 "nbformat_minor": 5
}
