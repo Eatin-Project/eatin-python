{
 "cells": [
  {
   "cell_type": "code",
   "execution_count": 1,
   "id": "a2458f13-a55c-4955-b769-7ca76269898d",
   "metadata": {
    "tags": []
   },
   "outputs": [],
   "source": [
    "import pandas as pd\n",
    "import requests\n",
    "from bs4 import BeautifulSoup\n",
    "import random\n",
    "import pyarrow\n",
    "import fastparquet\n",
    "import psycopg2\n",
    "from sqlalchemy import create_engine\n",
    "import numpy as np\n",
    "pd.set_option('display.max_colwidth', None)"
   ]
  },
  {
   "cell_type": "code",
   "execution_count": 2,
   "id": "e3b54be2-2f97-49cf-9067-7f0b5828db33",
   "metadata": {
    "tags": []
   },
   "outputs": [],
   "source": [
    "def create_rating_dataset(df):\n",
    "    df['id'] = df.index\n",
    "    df['vote_count'] = df['vote_count'].astype(int)\n",
    "\n",
    "    # Get the min and max rating values from the dataset\n",
    "    min_rating = df['rating'].min()\n",
    "    max_rating = df['rating'].max()\n",
    "    rating_range = max_rating - min_rating\n",
    "\n",
    "    # Initialize an empty list to store the rating dataset\n",
    "    rating_data = []\n",
    "\n",
    "    # Loop through each recipe in the dataset\n",
    "    for index, row in df.iterrows():\n",
    "        # Get the recipe ID and vote count\n",
    "        recipe_id = row['id']\n",
    "        vote_count = row['vote_count']\n",
    "\n",
    "        # Loop through each vote count for the recipe\n",
    "        for i in range(vote_count):\n",
    "            # Calculate the normalized rating for the current vote\n",
    "            rating = (row['rating'] - min_rating) / rating_range * 5\n",
    "\n",
    "            # Append the rating data to the list\n",
    "            rating_data.append({'user_id': i+1, 'recipe_id': recipe_id, 'rating': rating})\n",
    "\n",
    "    # Convert the rating data to a DataFrame\n",
    "    rating_df = pd.DataFrame(rating_data)\n",
    "\n",
    "    return rating_df\n",
    "\n",
    "def load_dataset_to_parquet(df):\n",
    "    df.to_parquet('../dataset/ratings.parquet.gzip', compression='gzip')"
   ]
  },
  {
   "cell_type": "code",
   "execution_count": 3,
   "id": "10f80283-12ae-4b3e-8925-ec57dab4e107",
   "metadata": {
    "tags": []
   },
   "outputs": [
    {
     "name": "stdout",
     "output_type": "stream",
     "text": [
      "creating parquet...\n"
     ]
    }
   ],
   "source": [
    "df = pd.read_csv('../dataset/food_recipes.csv')\n",
    "rating_df = create_rating_dataset(df)\n",
    "print('creating parquet...')\n",
    "load_dataset_to_parquet(rating_df)"
   ]
  },
  {
   "cell_type": "code",
   "execution_count": 9,
   "id": "fc190aa5-4e8c-4f96-b7b2-5436d37e8c15",
   "metadata": {
    "tags": []
   },
   "outputs": [
    {
     "data": {
      "text/plain": [
       "4.426832005706208"
      ]
     },
     "execution_count": 9,
     "metadata": {},
     "output_type": "execute_result"
    }
   ],
   "source": [
    "kaki = rating_df.loc[rating_df['recipe_id'] == 7527]\n",
    "kaki['rating'].sum() / 1841"
   ]
  },
  {
   "cell_type": "code",
   "execution_count": null,
   "id": "95436dea-60df-458c-85e4-ed5c0884610a",
   "metadata": {},
   "outputs": [],
   "source": []
  },
  {
   "cell_type": "code",
   "execution_count": null,
   "id": "46fdc705-aa05-48f8-8500-a03fceeb9b2d",
   "metadata": {},
   "outputs": [],
   "source": []
  }
 ],
 "metadata": {
  "kernelspec": {
   "display_name": "Python 3 (ipykernel)",
   "language": "python",
   "name": "python3"
  },
  "language_info": {
   "codemirror_mode": {
    "name": "ipython",
    "version": 3
   },
   "file_extension": ".py",
   "mimetype": "text/x-python",
   "name": "python",
   "nbconvert_exporter": "python",
   "pygments_lexer": "ipython3",
   "version": "3.10.10"
  }
 },
 "nbformat": 4,
 "nbformat_minor": 5
}
